{
 "cells": [
  {
   "cell_type": "markdown",
   "metadata": {},
   "source": [
    "# 第26章 类代码编写基础"
   ]
  },
  {
   "cell_type": "markdown",
   "metadata": {},
   "source": [
    "- 从最底层来看，类几乎就是命名空间，很像我们之前说过的模块；但是，和模块不同的是，类也支持多个对象的产生、命名空间继承以及运算符重载"
   ]
  },
  {
   "cell_type": "markdown",
   "metadata": {},
   "source": [
    "## 类产生多个实例对象"
   ]
  },
  {
   "cell_type": "markdown",
   "metadata": {},
   "source": [
    "- 类对象提供默认行为，是实例对象的工厂\n",
    "- 类对象来自于语句，而实例来自于调用"
   ]
  },
  {
   "cell_type": "markdown",
   "metadata": {},
   "source": [
    "### 类对象提供默认行为"
   ]
  },
  {
   "cell_type": "markdown",
   "metadata": {},
   "source": [
    "- class语句创建类对象并将其赋值给变量名\n",
    "- class语句内的顶层的赋值语句（不是在def之内）会产生类对象中的属性\n",
    "- 类对象的属性记录状态信息和行为，可由这个类所创建的所有实例共享"
   ]
  },
  {
   "cell_type": "code",
   "execution_count": 1,
   "metadata": {},
   "outputs": [
    {
     "name": "stdout",
     "output_type": "stream",
     "text": [
      "Bob\n",
      "Bob\n",
      "Alice\n",
      "Bob\n",
      "Cindy\n",
      "Alice\n",
      "Cindy\n"
     ]
    }
   ],
   "source": [
    "class Test():\n",
    "    name = \"Bob\"\n",
    "print Test.name\n",
    "\n",
    "t1 = Test()\n",
    "print t1.name\n",
    "\n",
    "t1.name = \"Alice\"\n",
    "print t1.name\n",
    "print Test.name\n",
    "\n",
    "Test.name = \"Cindy\"\n",
    "print Test.name\n",
    "print t1.name\n",
    "\n",
    "t2 = Test()\n",
    "print t2.name"
   ]
  },
  {
   "cell_type": "markdown",
   "metadata": {},
   "source": [
    "### 实例对象是具体的元素"
   ]
  },
  {
   "cell_type": "markdown",
   "metadata": {},
   "source": [
    "- 每次类调用时，都会建立并返回新的实例对象\n",
    "- 每个实例对象继承类的属性并获得了自己的命名空间\n",
    "- 在方法内对self属性做赋值运算会产生每个实例自己的属性"
   ]
  },
  {
   "cell_type": "markdown",
   "metadata": {},
   "source": [
    "## 类通过继承进行定制"
   ]
  },
  {
   "cell_type": "markdown",
   "metadata": {},
   "source": [
    "- Python也可让类继承其他类，因而开启了编写类层次结构的大门，在阶层较低的地方覆盖现有属性，让行为特定化\n",
    "- 继承搜索会从实例往上进行，之后到派生类，然后到基类，直到所找的属性名称首次出现为止\n",
    "- 我们把在树中较低处发生的重新定义的、取代属性的动作称为重载"
   ]
  },
  {
   "cell_type": "markdown",
   "metadata": {},
   "source": [
    "## 类可以截获Python运算符"
   ]
  },
  {
   "cell_type": "markdown",
   "metadata": {},
   "source": [
    "- 如果类没有定义或继承运算符重载方法，就是说相应的运算在类实例中并不支持，例如，如果没有`__add__`，`+`表达式就会引发异常\n",
    "- 运算符重载方法的名称并不是内置变量或保留字，只是当对象出现在不同的环境时Python会去搜索的属性\n",
    "- 你可以选择使用或不适用运算符重载（你完全可以使用更简单的命名方法），你的抉择取决于有多想让对象的用法和外观看起来更像内置类型"
   ]
  },
  {
   "cell_type": "markdown",
   "metadata": {},
   "source": [
    "## 世界上最简单的Python类"
   ]
  },
  {
   "cell_type": "code",
   "execution_count": 2,
   "metadata": {},
   "outputs": [],
   "source": [
    "class rec: pass"
   ]
  },
  {
   "cell_type": "code",
   "execution_count": 3,
   "metadata": {},
   "outputs": [],
   "source": [
    "rec.name = 'Bob'\n",
    "rec.age = 40"
   ]
  },
  {
   "cell_type": "code",
   "execution_count": 4,
   "metadata": {},
   "outputs": [],
   "source": [
    "# 这些实例最初完全是空的命名空间对象，不过，因为它们知道创建它们的类，所以会因继承并获取附加在类上的属性\n",
    "x = rec()\n",
    "y = rec()"
   ]
  },
  {
   "cell_type": "code",
   "execution_count": 5,
   "metadata": {},
   "outputs": [
    {
     "name": "stdout",
     "output_type": "stream",
     "text": [
      "Bob\n",
      "Bob\n"
     ]
    }
   ],
   "source": [
    "# 这里的name属性其实并不属于实例，而是属于类，通过继承搜索而来\n",
    "print x.name\n",
    "print y.name"
   ]
  },
  {
   "cell_type": "code",
   "execution_count": 6,
   "metadata": {},
   "outputs": [
    {
     "data": {
      "text/plain": [
       "['age', '__module__', '__doc__', 'name']"
      ]
     },
     "execution_count": 6,
     "metadata": {},
     "output_type": "execute_result"
    }
   ],
   "source": [
    "rec.__dict__.keys()"
   ]
  },
  {
   "cell_type": "code",
   "execution_count": 7,
   "metadata": {},
   "outputs": [
    {
     "data": {
      "text/plain": [
       "[]"
      ]
     },
     "execution_count": 7,
     "metadata": {},
     "output_type": "execute_result"
    }
   ],
   "source": [
    "x.__dict__.keys()"
   ]
  },
  {
   "cell_type": "code",
   "execution_count": 8,
   "metadata": {},
   "outputs": [
    {
     "data": {
      "text/plain": [
       "[]"
      ]
     },
     "execution_count": 8,
     "metadata": {},
     "output_type": "execute_result"
    }
   ],
   "source": [
    "y.__dict__.keys()"
   ]
  },
  {
   "cell_type": "code",
   "execution_count": 9,
   "metadata": {},
   "outputs": [],
   "source": [
    "x.name = 'Hellen'"
   ]
  },
  {
   "cell_type": "code",
   "execution_count": 10,
   "metadata": {},
   "outputs": [
    {
     "data": {
      "text/plain": [
       "['name']"
      ]
     },
     "execution_count": 10,
     "metadata": {},
     "output_type": "execute_result"
    }
   ],
   "source": [
    "x.__dict__.keys()"
   ]
  },
  {
   "cell_type": "code",
   "execution_count": 11,
   "metadata": {},
   "outputs": [
    {
     "data": {
      "text/plain": [
       "<class __main__.rec at 0x1040590b8>"
      ]
     },
     "execution_count": 11,
     "metadata": {},
     "output_type": "execute_result"
    }
   ],
   "source": [
    "# 查看实例所属的类\n",
    "x.__class__"
   ]
  },
  {
   "cell_type": "code",
   "execution_count": 12,
   "metadata": {},
   "outputs": [
    {
     "data": {
      "text/plain": [
       "()"
      ]
     },
     "execution_count": 12,
     "metadata": {},
     "output_type": "execute_result"
    }
   ],
   "source": [
    "# 查看派生类所继承的基类\n",
    "rec.__bases__"
   ]
  },
  {
   "cell_type": "markdown",
   "metadata": {},
   "source": [
    "- Python的类模型相当动态，类和实例只是命名空间对象，属性是通过赋值语句动态建立，恰巧这些赋值语句往往在class语句内；即使是防范，也可以完全独立地在任意类对象的外部创建"
   ]
  },
  {
   "cell_type": "code",
   "execution_count": 13,
   "metadata": {},
   "outputs": [],
   "source": [
    "# 这里和类完全没什么关系，只是一个简单函数，只要传入一个带name属性的对象即可调用\n",
    "def upperName(self):\n",
    "    return self.name.upper()"
   ]
  },
  {
   "cell_type": "code",
   "execution_count": 14,
   "metadata": {},
   "outputs": [],
   "source": [
    "rec.method = upperName"
   ]
  },
  {
   "cell_type": "code",
   "execution_count": 15,
   "metadata": {},
   "outputs": [
    {
     "data": {
      "text/plain": [
       "'HELLEN'"
      ]
     },
     "execution_count": 15,
     "metadata": {},
     "output_type": "execute_result"
    }
   ],
   "source": [
    "x.method()"
   ]
  },
  {
   "cell_type": "code",
   "execution_count": 16,
   "metadata": {},
   "outputs": [
    {
     "data": {
      "text/plain": [
       "'BOB'"
      ]
     },
     "execution_count": 16,
     "metadata": {},
     "output_type": "execute_result"
    }
   ],
   "source": [
    "y.method()"
   ]
  },
  {
   "cell_type": "code",
   "execution_count": 17,
   "metadata": {},
   "outputs": [
    {
     "data": {
      "text/plain": [
       "'HELLEN'"
      ]
     },
     "execution_count": 17,
     "metadata": {},
     "output_type": "execute_result"
    }
   ],
   "source": [
    "rec.method(x)"
   ]
  }
 ],
 "metadata": {
  "kernelspec": {
   "display_name": "Python 2",
   "language": "python",
   "name": "python2"
  },
  "language_info": {
   "codemirror_mode": {
    "name": "ipython",
    "version": 2
   },
   "file_extension": ".py",
   "mimetype": "text/x-python",
   "name": "python",
   "nbconvert_exporter": "python",
   "pygments_lexer": "ipython2",
   "version": "2.7.10"
  }
 },
 "nbformat": 4,
 "nbformat_minor": 2
}
