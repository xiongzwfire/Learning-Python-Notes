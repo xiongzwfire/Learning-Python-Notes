{
 "cells": [
  {
   "cell_type": "markdown",
   "metadata": {},
   "source": [
    "# 第29章 运算符重载"
   ]
  },
  {
   "cell_type": "markdown",
   "metadata": {},
   "source": [
    "- “运算符重载”只是意味着在类方法中拦截内置的操作——当类的实例出现在内置操作中，Python自动调用你的方法，并且你的方法的返回值变成了相应操作的结果\n",
    "- 类可重载所有Python表达式运算符\n",
    "- 类也可重载打印、函数调用、属性点号运算等内置运算\n",
    "- 重载使类实例的行为像内置类型\n",
    "- 重载使通过提供特殊名称的类方法来实现\n",
    "- 运算符重载方法并非必需的，并且通常也不是默认的，如果你没有编写或继承一个运算符重载方法，只是意味着你的类不会支持相应的操作"
   ]
  },
  {
   "cell_type": "code",
   "execution_count": 1,
   "metadata": {},
   "outputs": [
    {
     "data": {
      "text/plain": [
       "3"
      ]
     },
     "execution_count": 1,
     "metadata": {},
     "output_type": "execute_result"
    }
   ],
   "source": [
    "class Number:\n",
    "    def __init__(self, start):\n",
    "        self.data = start\n",
    "    def __sub__(self, other): # 减法操作\n",
    "        return Number(self.data - other)\n",
    "\n",
    "X = Number(5)\n",
    "Y = X - 2\n",
    "Y.data"
   ]
  },
  {
   "cell_type": "markdown",
   "metadata": {},
   "source": [
    "## 常见的运算符重载方法"
   ]
  },
  {
   "cell_type": "markdown",
   "metadata": {},
   "source": [
    "- 所有重载方法的名称前后都有两个下划线字符，以便把同类中定义的变量名区别开来，特殊方法名称和表达式或运算的映射关系，是由Python语言预先定义好的\n",
    "- 如果没有定义运算符重载方法的话，它可能继承自超类"
   ]
  },
  {
   "cell_type": "markdown",
   "metadata": {},
   "source": [
    "### 索引和分片：`__getitem__`和`__setitem__`"
   ]
  },
  {
   "cell_type": "markdown",
   "metadata": {},
   "source": [
    "- 当定义了`__getitem__`方法，出现`X[i]`这样的索引运算时，Python会把`X`作为第一个参数传递，把`i`作为第二个参数传递"
   ]
  },
  {
   "cell_type": "code",
   "execution_count": 2,
   "metadata": {},
   "outputs": [
    {
     "data": {
      "text/plain": [
       "4"
      ]
     },
     "execution_count": 2,
     "metadata": {},
     "output_type": "execute_result"
    }
   ],
   "source": [
    "class Indexer:\n",
    "    def __getitem__(self, index):\n",
    "        return index ** 2\n",
    "    \n",
    "X = Indexer()\n",
    "X[2]"
   ]
  },
  {
   "cell_type": "markdown",
   "metadata": {},
   "source": [
    "### 拦截分片"
   ]
  },
  {
   "cell_type": "markdown",
   "metadata": {},
   "source": [
    "- 对于分片表达式，也调用`__getitem__`，正式地讲，内置类型以同样的方式处理分片\n",
    "- 事实上，分片边界绑定到了一个分片对象中，并且传递给索引的列表实现"
   ]
  },
  {
   "cell_type": "code",
   "execution_count": 3,
   "metadata": {},
   "outputs": [
    {
     "name": "stdout",
     "output_type": "stream",
     "text": [
      "slice(2, 4, None)\n",
      "[7, 8]\n"
     ]
    }
   ],
   "source": [
    "data = [5, 6, 7, 8, 9]\n",
    "print slice(2, 4)\n",
    "print data[slice(2, 4)]"
   ]
  },
  {
   "cell_type": "code",
   "execution_count": 4,
   "metadata": {},
   "outputs": [
    {
     "name": "stdout",
     "output_type": "stream",
     "text": [
      "getitem:  0\n",
      "5\n",
      "getitem:  -1\n",
      "9\n",
      "getitem:  slice(2, 4, None)\n",
      "[7, 8]\n"
     ]
    }
   ],
   "source": [
    "class Indexer:\n",
    "    data = [5, 6, 7, 8, 9]\n",
    "    def __getitem__(self, index):\n",
    "        print 'getitem: ', index\n",
    "        print self.data[index]\n",
    "    \n",
    "X = Indexer()\n",
    "X[0]\n",
    "X[-1]\n",
    "X[2:4]"
   ]
  },
  {
   "cell_type": "markdown",
   "metadata": {},
   "source": [
    "- `__setitem__`索引赋值方法类似地拦截索引和分片赋值——它为后者接收了一个分片对象"
   ]
  },
  {
   "cell_type": "code",
   "execution_count": 5,
   "metadata": {},
   "outputs": [],
   "source": [
    "def __setitem__(self, index, value):\n",
    "    self.data[index] = value"
   ]
  },
  {
   "cell_type": "markdown",
   "metadata": {},
   "source": [
    "### 索引迭代：`__getitem__`"
   ]
  },
  {
   "cell_type": "code",
   "execution_count": 6,
   "metadata": {},
   "outputs": [
    {
     "name": "stdout",
     "output_type": "stream",
     "text": [
      "p\n",
      "S\n",
      "p\n",
      "a\n",
      "m\n"
     ]
    }
   ],
   "source": [
    "class stepper:\n",
    "    def __getitem__(self, i):\n",
    "        return self.data[i]\n",
    "X = stepper()\n",
    "X.data = 'Spam'\n",
    "print X[1]\n",
    "for item in X:\n",
    "    print item"
   ]
  },
  {
   "cell_type": "markdown",
   "metadata": {},
   "source": [
    "- 任何支持for循环的类也会自动支持Python所有迭代环境"
   ]
  },
  {
   "cell_type": "code",
   "execution_count": 7,
   "metadata": {},
   "outputs": [
    {
     "data": {
      "text/plain": [
       "True"
      ]
     },
     "execution_count": 7,
     "metadata": {},
     "output_type": "execute_result"
    }
   ],
   "source": [
    "'p' in X"
   ]
  },
  {
   "cell_type": "code",
   "execution_count": 8,
   "metadata": {},
   "outputs": [
    {
     "data": {
      "text/plain": [
       "['S', 'p', 'a', 'm']"
      ]
     },
     "execution_count": 8,
     "metadata": {},
     "output_type": "execute_result"
    }
   ],
   "source": [
    "[c for c in X]"
   ]
  },
  {
   "cell_type": "code",
   "execution_count": 9,
   "metadata": {},
   "outputs": [
    {
     "data": {
      "text/plain": [
       "['S', 'P', 'A', 'M']"
      ]
     },
     "execution_count": 9,
     "metadata": {},
     "output_type": "execute_result"
    }
   ],
   "source": [
    "map(str.upper, X)"
   ]
  },
  {
   "cell_type": "code",
   "execution_count": 10,
   "metadata": {},
   "outputs": [
    {
     "data": {
      "text/plain": [
       "('S', 'a', 'm')"
      ]
     },
     "execution_count": 10,
     "metadata": {},
     "output_type": "execute_result"
    }
   ],
   "source": [
    "(a, b, c, d) = X\n",
    "a, c, d"
   ]
  },
  {
   "cell_type": "markdown",
   "metadata": {},
   "source": [
    "### 迭代器对象：`__iter__`和`__next__`"
   ]
  },
  {
   "cell_type": "markdown",
   "metadata": {},
   "source": [
    "- 尽管上一节的`__getitem__`有效，但它真的只是迭代的一种退而求其次的方法，如今Python中所有的迭代环境都会先尝试`__iter__`方法，再尝试`__getitem__`，也即，只有在对象不支持迭代协议的时候，才会尝试索引运算；一般来讲，你也应该优先使用`__iter__`，它能够比`__getitem__`更好地支持一般的迭代环境\n",
    "- 从技术角度来讲，迭代环境是通过调用内置函数iter去尝试寻找`__iter__`方法来实现的，这个方法会返回一个迭代器对象，Python会重复调用这个迭代器对象的next方法，知道发生StopIteration异常；否则，Python会改用`__getitem__`机制，通过偏移量重复索引，直到引发IndexError异常\n",
    "- 注意，在Python2.6中，`__next__`改为`next`"
   ]
  },
  {
   "cell_type": "markdown",
   "metadata": {},
   "source": [
    "### 用户定义的迭代器"
   ]
  },
  {
   "cell_type": "code",
   "execution_count": 11,
   "metadata": {},
   "outputs": [
    {
     "name": "stdout",
     "output_type": "stream",
     "text": [
      "1\n",
      "4\n",
      "9\n",
      "16\n",
      "25\n"
     ]
    }
   ],
   "source": [
    "class Squares:\n",
    "    def __init__(self, start, stop):\n",
    "        self.value = start - 1\n",
    "        self.stop = stop\n",
    "    def __iter__(self):\n",
    "        return self\n",
    "    def next(self):\n",
    "        if self.value == self.stop:\n",
    "            raise StopIteration\n",
    "        self.value += 1\n",
    "        return self.value ** 2\n",
    "for i in Squares(1, 5):\n",
    "    print i"
   ]
  },
  {
   "cell_type": "code",
   "execution_count": 12,
   "metadata": {},
   "outputs": [
    {
     "data": {
      "text/plain": [
       "1"
      ]
     },
     "execution_count": 12,
     "metadata": {},
     "output_type": "execute_result"
    }
   ],
   "source": [
    "X = Squares(1, 5)\n",
    "I = iter(X)\n",
    "next(I)"
   ]
  },
  {
   "cell_type": "markdown",
   "metadata": {},
   "source": [
    "- 相较于`__getitem__`，有时候`__iter__`会更难用，例如，它不能用来索引"
   ]
  },
  {
   "cell_type": "code",
   "execution_count": 13,
   "metadata": {},
   "outputs": [],
   "source": [
    "X = Squares(1, 5)\n",
    "# 下列索引运算会报错\n",
    "# X[1]"
   ]
  },
  {
   "cell_type": "markdown",
   "metadata": {},
   "source": [
    "- `__iter__`支持成员关系测试、类型构造函数、序列赋值运算等"
   ]
  },
  {
   "cell_type": "code",
   "execution_count": 14,
   "metadata": {},
   "outputs": [
    {
     "data": {
      "text/plain": [
       "[1, 4, 9, 16, 25]"
      ]
     },
     "execution_count": 14,
     "metadata": {},
     "output_type": "execute_result"
    }
   ],
   "source": [
    "[n for n in Squares(1, 5)]"
   ]
  },
  {
   "cell_type": "code",
   "execution_count": 15,
   "metadata": {},
   "outputs": [
    {
     "data": {
      "text/plain": [
       "True"
      ]
     },
     "execution_count": 15,
     "metadata": {},
     "output_type": "execute_result"
    }
   ],
   "source": [
    "4 in Squares(1, 5)"
   ]
  },
  {
   "cell_type": "markdown",
   "metadata": {},
   "source": []
  },
  {
   "cell_type": "markdown",
   "metadata": {},
   "source": [
    "### 有多个迭代器的对象"
   ]
  },
  {
   "cell_type": "markdown",
   "metadata": {},
   "source": [
    "- 当我们用类编写用户定义的迭代器的时候，由我们来决定是支持一个单个的或是多个活跃的迭代，要达到多个迭代器的效果，`__iter__`只需替迭代器定义新的定义新的状态对象，而不是返回self"
   ]
  },
  {
   "cell_type": "code",
   "execution_count": 16,
   "metadata": {},
   "outputs": [
    {
     "name": "stdout",
     "output_type": "stream",
     "text": [
      "a c e\n",
      "aa\n",
      "ac\n",
      "ae\n",
      "ca\n",
      "cc\n",
      "ce\n",
      "ea\n",
      "ec\n",
      "ee\n"
     ]
    }
   ],
   "source": [
    "class SkipObject:\n",
    "    def __init__(self, wrapped):\n",
    "        self.wrapped = wrapped\n",
    "    def __iter__(self):\n",
    "        return SkipIterator(self.wrapped)\n",
    "    \n",
    "class SkipIterator:\n",
    "    def __init__(self, wrapped):\n",
    "        self.wrapped = wrapped\n",
    "        self.offset = 0\n",
    "    def next(self):\n",
    "        if self.offset >= len(self.wrapped):\n",
    "            raise StopIteration\n",
    "        else:\n",
    "            item = self.wrapped[self.offset]\n",
    "            self.offset += 2\n",
    "            return item\n",
    "        \n",
    "alpha = 'abcdef'\n",
    "skipper = SkipObject(alpha)\n",
    "I = iter(skipper)\n",
    "print next(I), next(I), next(I)\n",
    "\n",
    "# 每个循环都会获得独立的迭代器对象来记录自己的状态信息\n",
    "for x in skipper:\n",
    "    for y in skipper:\n",
    "        print x + y"
   ]
  },
  {
   "cell_type": "markdown",
   "metadata": {},
   "source": [
    "- 迭代器是很强大的工具，可让我们把任意对象的外观和用法变得很像其它序列和可迭代对象"
   ]
  },
  {
   "cell_type": "markdown",
   "metadata": {},
   "source": [
    "### 成员关系：`__contains__`、`__iter__`和`__getitem__`"
   ]
  },
  {
   "cell_type": "markdown",
   "metadata": {},
   "source": [
    "- 运算符重载往往是多个层级的：类可以提供特定的方法，或者用作退而求其次选项的更通用的替代方法"
   ]
  },
  {
   "cell_type": "markdown",
   "metadata": {},
   "source": [
    "- 在迭代领域，类通常把in成员关系运算符实现为一个迭代，使用`__iter__`方法或`__getitem__`方法，要支持更加特定的成员关系，类可能编写一个`__contains__`方法——当出现的时候，该方法优先于`__iter__`方法，`__iter__`方法优先于`__getitem__`方法"
   ]
  },
  {
   "cell_type": "code",
   "execution_count": 17,
   "metadata": {},
   "outputs": [
    {
     "name": "stdout",
     "output_type": "stream",
     "text": [
      "contains: True\n",
      "iter=> next:1 | next:2 | next:3 | next:4 | next:5 | next:\n",
      "iter=> next:next:next:next:next:next:[1, 4, 9, 16, 25]\n",
      "iter=> next:next:next:next:next:next:['0b1', '0b10', '0b11', '0b100', '0b101']\n",
      "iter=> next:1@next:2@next:3@next:4@next:5@next:"
     ]
    }
   ],
   "source": [
    "from __future__ import print_function\n",
    "class Iters:\n",
    "    def __init__(self, value):\n",
    "        self.data = value\n",
    "    def __getitem__(self, i):\n",
    "        print(\"get[%s]:\" % i, end='')\n",
    "        return self.data[i]\n",
    "    def __iter__(self):\n",
    "        print(\"iter=> \", end='')\n",
    "        self.ix = 0\n",
    "        return self\n",
    "    def next(self):\n",
    "        print('next:', end='')\n",
    "        if self.ix == len(self.data): \n",
    "            raise StopIteration\n",
    "        item = self.data[self.ix]\n",
    "        self.ix += 1\n",
    "        return item\n",
    "    def __contains__(self, x):\n",
    "        print('contains: ', end='')\n",
    "        return x in self.data\n",
    "    \n",
    "X = Iters([1, 2, 3, 4, 5])\n",
    "print(3 in X)\n",
    "for i in X:\n",
    "    print(i, end=' | ')\n",
    "\n",
    "print()\n",
    "print([i **2 for i in X]) # __iter__函数每次会执行self.ix = 0，所以可以迭代多次\n",
    "print(map(bin, X))\n",
    "\n",
    "I = iter(X)\n",
    "while True:\n",
    "    try:\n",
    "        print(next(I), end='@')\n",
    "    except StopIteration:\n",
    "        break"
   ]
  },
  {
   "cell_type": "markdown",
   "metadata": {},
   "source": [
    "- 如果注释掉`__contains__`，成员关系将会路由到通用的`__iter__`"
   ]
  },
  {
   "cell_type": "code",
   "execution_count": 18,
   "metadata": {},
   "outputs": [
    {
     "name": "stdout",
     "output_type": "stream",
     "text": [
      "iter=> next:next:next:True\n",
      "iter=> next:1 | next:2 | next:3 | next:4 | next:5 | next:\n",
      "iter=> next:next:next:next:next:next:[1, 4, 9, 16, 25]\n",
      "iter=> next:next:next:next:next:next:['0b1', '0b10', '0b11', '0b100', '0b101']\n",
      "iter=> next:1@next:2@next:3@next:4@next:5@next:"
     ]
    }
   ],
   "source": [
    "class Iters:\n",
    "    def __init__(self, value):\n",
    "        self.data = value\n",
    "    def __getitem__(self, i):\n",
    "        print(\"get[%s]:\" % i, end='')\n",
    "        return self.data[i]\n",
    "    def __iter__(self):\n",
    "        print(\"iter=> \", end='')\n",
    "        self.ix = 0\n",
    "        return self\n",
    "    def next(self):\n",
    "        print('next:', end='')\n",
    "        if self.ix == len(self.data): \n",
    "            raise StopIteration\n",
    "        item = self.data[self.ix]\n",
    "        self.ix += 1\n",
    "        return item\n",
    "    #def __contains__(self, x):\n",
    "    #    print('contains: ', end='')\n",
    "    #    return x in self.data\n",
    "    \n",
    "X = Iters([1, 2, 3, 4, 5])\n",
    "print(3 in X)\n",
    "for i in X:\n",
    "    print(i, end=' | ')\n",
    "\n",
    "print()\n",
    "print([i **2 for i in X]) # __iter__函数每次会执行self.ix = 0，所以可以迭代多次\n",
    "print(map(bin, X))\n",
    "\n",
    "I = iter(X)\n",
    "while True:\n",
    "    try:\n",
    "        print(next(I), end='@')\n",
    "    except StopIteration:\n",
    "        break"
   ]
  },
  {
   "cell_type": "markdown",
   "metadata": {},
   "source": [
    "- 如果注释掉`__contains__`和`__iter__`，索引`__getitem__`替代方法会被调用"
   ]
  },
  {
   "cell_type": "code",
   "execution_count": 19,
   "metadata": {},
   "outputs": [
    {
     "name": "stdout",
     "output_type": "stream",
     "text": [
      "get[0]:get[1]:get[2]:True\n",
      "get[0]:1 | get[1]:2 | get[2]:3 | get[3]:4 | get[4]:5 | get[5]:\n",
      "get[0]:get[1]:get[2]:get[3]:get[4]:get[5]:[1, 4, 9, 16, 25]\n",
      "get[0]:get[1]:get[2]:get[3]:get[4]:get[5]:['0b1', '0b10', '0b11', '0b100', '0b101']\n",
      "get[0]:1@get[1]:2@get[2]:3@get[3]:4@get[4]:5@get[5]:"
     ]
    }
   ],
   "source": [
    "class Iters:\n",
    "    def __init__(self, value):\n",
    "        self.data = value\n",
    "    def __getitem__(self, i):\n",
    "        print(\"get[%s]:\" % i, end='')\n",
    "        return self.data[i]\n",
    "    #def __iter__(self):\n",
    "    #    print(\"iter=> \", end='')\n",
    "    #    self.ix = 0\n",
    "    #    return self\n",
    "    def next(self):\n",
    "        print('next:', end='')\n",
    "        if self.ix == len(self.data): \n",
    "            raise StopIteration\n",
    "        item = self.data[self.ix]\n",
    "        self.ix += 1\n",
    "        return item\n",
    "    #def __contains__(self, x):\n",
    "    #    print('contains: ', end='')\n",
    "    #    return x in self.data\n",
    "    \n",
    "X = Iters([1, 2, 3, 4, 5])\n",
    "print(3 in X)\n",
    "for i in X:\n",
    "    print(i, end=' | ')\n",
    "\n",
    "print()\n",
    "print([i **2 for i in X]) # __iter__函数每次会执行self.ix = 0，所以可以迭代多次\n",
    "print(map(bin, X))\n",
    "\n",
    "I = iter(X)\n",
    "while True:\n",
    "    try:\n",
    "        print(next(I), end='@')\n",
    "    except StopIteration:\n",
    "        break"
   ]
  },
  {
   "cell_type": "markdown",
   "metadata": {},
   "source": [
    "- `__getitem__`方法甚至更加通用，除了迭代，它还拦截显式索引和分片"
   ]
  },
  {
   "cell_type": "code",
   "execution_count": 20,
   "metadata": {},
   "outputs": [
    {
     "name": "stdout",
     "output_type": "stream",
     "text": [
      "get[0]:"
     ]
    },
    {
     "data": {
      "text/plain": [
       "'s'"
      ]
     },
     "execution_count": 20,
     "metadata": {},
     "output_type": "execute_result"
    }
   ],
   "source": [
    "X = Iters('spam')\n",
    "X[0]"
   ]
  },
  {
   "cell_type": "code",
   "execution_count": 21,
   "metadata": {},
   "outputs": [
    {
     "name": "stdout",
     "output_type": "stream",
     "text": [
      "get[slice(1, 3, None)]:"
     ]
    },
    {
     "data": {
      "text/plain": [
       "'pa'"
      ]
     },
     "execution_count": 21,
     "metadata": {},
     "output_type": "execute_result"
    }
   ],
   "source": [
    "X[1:3]"
   ]
  },
  {
   "cell_type": "markdown",
   "metadata": {},
   "source": [
    "### 属性引用：`__getattr__`和`__setattr__`"
   ]
  },
  {
   "cell_type": "markdown",
   "metadata": {},
   "source": [
    "- `__getattr__`方法是拦截属性点号运算，更确切的说，当通过对未定义（不存在）属性名称和实例进行点号运算时，就会用属性名称作为字符串调用这个方法，如果Python可以通过继承树搜索流程找到这个属性，该方法就不会被调用"
   ]
  },
  {
   "cell_type": "code",
   "execution_count": 22,
   "metadata": {},
   "outputs": [
    {
     "data": {
      "text/plain": [
       "40"
      ]
     },
     "execution_count": 22,
     "metadata": {},
     "output_type": "execute_result"
    }
   ],
   "source": [
    "class empty:\n",
    "    def __getattr__(self, attrname):\n",
    "        if attrname == \"age\":\n",
    "            return 40\n",
    "        else:\n",
    "            raise AttributeError, attrname\n",
    "\n",
    "X = empty()\n",
    "X.age\n",
    "# 以下语句会报错\n",
    "#X.name"
   ]
  },
  {
   "cell_type": "markdown",
   "metadata": {},
   "source": [
    "- `__setattr__`会拦截所有属性的赋值语句，如果定义了这个方法，`self.attr = value`会变成`self.__setattr__('attr', value)`，由于在`__setattr__`中对任何self属性做赋值，都会再调用`__setattr__`，导致无穷递归循环，因此内部要使用`self.__dict__['name'] = x`来赋值"
   ]
  },
  {
   "cell_type": "code",
   "execution_count": 23,
   "metadata": {},
   "outputs": [
    {
     "data": {
      "text/plain": [
       "40"
      ]
     },
     "execution_count": 23,
     "metadata": {},
     "output_type": "execute_result"
    }
   ],
   "source": [
    "class accesscontrol:\n",
    "    def __setattr__(self, attr, value):\n",
    "        if attr == 'age':\n",
    "            self.__dict__[attr] = value\n",
    "        else:\n",
    "            raise AttributeError, attr + 'not allowed'\n",
    "    \n",
    "X = accesscontrol()\n",
    "X.age = 40\n",
    "X.age\n",
    "# 以下语句会报错\n",
    "#X.name = 'mel'"
   ]
  },
  {
   "cell_type": "markdown",
   "metadata": {},
   "source": [
    "### `__repr__`和`__str__`会返回字符串表达形式"
   ]
  },
  {
   "cell_type": "markdown",
   "metadata": {},
   "source": [
    "- `__repr__`比`__str__`更加通用，而`__str__`只是在某些场景下会被调用，因此，如果想让所有环境都有统一的显示，`__repr__`是最佳选择"
   ]
  },
  {
   "cell_type": "markdown",
   "metadata": {},
   "source": [
    "### 右侧加法和原处加法：`__radd__`和`__iadd__`"
   ]
  },
  {
   "cell_type": "markdown",
   "metadata": {},
   "source": [
    "- 之前讲过的`__add__`方法并不支持`+`运算符右侧使用实例对象，要实现这类表达式，而支持可互换的运算符，可以一并编写`__radd__`方法，只有当右侧的对象是类实例，而左边对象不是类实例时，Python才会调用`__radd__`，否则由左侧对象调用`__add__`"
   ]
  },
  {
   "cell_type": "code",
   "execution_count": 24,
   "metadata": {},
   "outputs": [
    {
     "name": "stdout",
     "output_type": "stream",
     "text": [
      "add 88 1\n",
      "radd 99 1\n",
      "add 88 <__main__.Commuter instance at 0x10e1ffef0>\n",
      "radd 99 88\n"
     ]
    },
    {
     "data": {
      "text/plain": [
       "187"
      ]
     },
     "execution_count": 24,
     "metadata": {},
     "output_type": "execute_result"
    }
   ],
   "source": [
    "class Commuter:\n",
    "    def __init__(self, val):\n",
    "        self.val = val\n",
    "    def __add__(self, other):\n",
    "        print('add', self.val, other)\n",
    "        return self.val + other\n",
    "    def __radd__(self, other):\n",
    "        print('radd', self.val, other)\n",
    "        return other + self.val\n",
    "    \n",
    "x = Commuter(88)\n",
    "y = Commuter(99)\n",
    "x + 1\n",
    "1 + y\n",
    "x + y # __add__触发了__radd__"
   ]
  },
  {
   "cell_type": "markdown",
   "metadata": {},
   "source": [
    "- 为了也实现+=原处扩展相加，编写一个`__iadd__`或`__add__`，如果前者空缺，则使用后者"
   ]
  },
  {
   "cell_type": "code",
   "execution_count": 25,
   "metadata": {},
   "outputs": [
    {
     "data": {
      "text/plain": [
       "7"
      ]
     },
     "execution_count": 25,
     "metadata": {},
     "output_type": "execute_result"
    }
   ],
   "source": [
    "class Number:\n",
    "    def __init__(self, val):\n",
    "        self.val = val\n",
    "    def __iadd__(self, other):\n",
    "        self.val += other\n",
    "        return self\n",
    "x = Number(5)\n",
    "x += 1\n",
    "x += 1\n",
    "x.val"
   ]
  },
  {
   "cell_type": "markdown",
   "metadata": {},
   "source": [
    "- 每个二元运算都有类似的右侧和原处重载方法，它们以相同的方式工作（例如，`__mul__`、`__rmul__`和`__imul__`）；右侧方法是一个高级话题，并且实际中很少用到，只有在需要运算符具有交换性的时候，才会编写它们"
   ]
  },
  {
   "cell_type": "markdown",
   "metadata": {},
   "source": [
    "### Call表达式：`__call__`"
   ]
  },
  {
   "cell_type": "markdown",
   "metadata": {},
   "source": [
    "- 如果定义了，Python就会为实例应用函数调用表达式运行`__call__`方法，这样可以让类实例的外观和用法类似于函数"
   ]
  },
  {
   "cell_type": "code",
   "execution_count": 26,
   "metadata": {},
   "outputs": [
    {
     "name": "stdout",
     "output_type": "stream",
     "text": [
      "Called:  (1, 2, 3) {}\n",
      "Called:  (1, 2, 3) {'y': 5, 'x': 4}\n"
     ]
    }
   ],
   "source": [
    "class Callee:\n",
    "    def __call__(self, *pargs, **kargs):\n",
    "        print ('Called: ', pargs, kargs)\n",
    "\n",
    "C = Callee()\n",
    "C(1, 2, 3)\n",
    "C(1, 2, 3, x=4, y=5)"
   ]
  },
  {
   "cell_type": "markdown",
   "metadata": {},
   "source": [
    "- 更准确地说，我们在第18章介绍的所有参数传递方式，`__call__`方法都支持"
   ]
  },
  {
   "cell_type": "code",
   "execution_count": 27,
   "metadata": {},
   "outputs": [
    {
     "data": {
      "text/plain": [
       "6"
      ]
     },
     "execution_count": 27,
     "metadata": {},
     "output_type": "execute_result"
    }
   ],
   "source": [
    "class Prod:\n",
    "    def __init__(self, value):\n",
    "        self.value = value\n",
    "    def __call__(self, other):\n",
    "        return self.value * other\n",
    "\n",
    "x = Prod(2)\n",
    "x(3)"
   ]
  },
  {
   "cell_type": "markdown",
   "metadata": {},
   "source": [
    "### 比较：`__lt__`、`__gt__`和其它方法"
   ]
  },
  {
   "cell_type": "code",
   "execution_count": 28,
   "metadata": {},
   "outputs": [
    {
     "name": "stdout",
     "output_type": "stream",
     "text": [
      "True\n",
      "False\n"
     ]
    }
   ],
   "source": [
    "class C:\n",
    "    data = 'spam'\n",
    "    def __gt__(self, other):\n",
    "        return self.data > other\n",
    "    def __lt__(self, other):\n",
    "        return self.data < other\n",
    "\n",
    "X = C()\n",
    "print (X > 'ham') # runs __gt__\n",
    "print (X < 'ham') # runs __lt__"
   ]
  },
  {
   "cell_type": "markdown",
   "metadata": {},
   "source": [
    "- 在Python2.6中，如果没有定义更加具体的方法的话，`__cmp__`作为一种退而求其次的方法：它返回一个小于、等于或大于0的数，以表示比较其两个参数的结果，这个方法往往使用cmp(x, y)内置函数来计算其结果"
   ]
  },
  {
   "cell_type": "code",
   "execution_count": 29,
   "metadata": {},
   "outputs": [
    {
     "name": "stdout",
     "output_type": "stream",
     "text": [
      "True\n",
      "False\n"
     ]
    }
   ],
   "source": [
    "class C:\n",
    "    data = 'spam'\n",
    "    def __cmp__(self, other):\n",
    "        return cmp(self.data, other)\n",
    "        \n",
    "X = C()\n",
    "print (X > 'ham')\n",
    "print (X < 'ham')"
   ]
  },
  {
   "cell_type": "markdown",
   "metadata": {},
   "source": [
    "### 布尔测试：`__bool__`和`__len__`"
   ]
  },
  {
   "cell_type": "markdown",
   "metadata": {},
   "source": [
    "- 在布尔环境中，Python首先尝试`__bool__`来获取一个直接的布尔值，若没定义，则尝试`__len__`，它会根据对象的长度确定一个真值"
   ]
  },
  {
   "cell_type": "code",
   "execution_count": 30,
   "metadata": {},
   "outputs": [
    {
     "name": "stdout",
     "output_type": "stream",
     "text": [
      "yes\n"
     ]
    }
   ],
   "source": [
    "class Truth:\n",
    "    def __bool__(self):\n",
    "        return True\n",
    "\n",
    "X = Truth()\n",
    "if X:\n",
    "    print('yes')"
   ]
  },
  {
   "cell_type": "code",
   "execution_count": 31,
   "metadata": {},
   "outputs": [
    {
     "name": "stdout",
     "output_type": "stream",
     "text": [
      "no\n"
     ]
    }
   ],
   "source": [
    "class Truth:\n",
    "    def __len__(self):\n",
    "        return 0\n",
    "\n",
    "X = Truth()\n",
    "if not X:\n",
    "    print('no')"
   ]
  },
  {
   "cell_type": "code",
   "execution_count": 32,
   "metadata": {},
   "outputs": [
    {
     "name": "stdout",
     "output_type": "stream",
     "text": [
      "yes\n"
     ]
    }
   ],
   "source": [
    "# python2.6 会首先尝试__len__\n",
    "# python3.0 会首先尝试__bool__\n",
    "class Truth:\n",
    "    def __bool__(self):\n",
    "        return True\n",
    "    def __len__(self):\n",
    "        return 0\n",
    "    \n",
    "X = Truth()\n",
    "if not X:\n",
    "    print('yes')"
   ]
  },
  {
   "cell_type": "markdown",
   "metadata": {},
   "source": [
    "- 如果没有定义以上两个方法，则对象为真"
   ]
  },
  {
   "cell_type": "code",
   "execution_count": 33,
   "metadata": {},
   "outputs": [
    {
     "data": {
      "text/plain": [
       "True"
      ]
     },
     "execution_count": 33,
     "metadata": {},
     "output_type": "execute_result"
    }
   ],
   "source": [
    "class Truth:\n",
    "    pass\n",
    "\n",
    "X = Truth()\n",
    "bool(X)"
   ]
  },
  {
   "cell_type": "markdown",
   "metadata": {},
   "source": [
    "### 对象析构函数：`__del__`"
   ]
  },
  {
   "cell_type": "markdown",
   "metadata": {},
   "source": [
    "- 当实例空间被收回时（垃圾收集），析构函数会自动执行"
   ]
  },
  {
   "cell_type": "code",
   "execution_count": 34,
   "metadata": {},
   "outputs": [
    {
     "name": "stdout",
     "output_type": "stream",
     "text": [
      "Hello Brian\n"
     ]
    }
   ],
   "source": [
    "class Life:\n",
    "    def __init__(self, name='unknown'):\n",
    "        print('Hello', name)\n",
    "        self.name = name\n",
    "    def __del__(self):\n",
    "        print('Goodbye', self.name)\n",
    "        \n",
    "brian = Life('Brian')"
   ]
  },
  {
   "cell_type": "code",
   "execution_count": 35,
   "metadata": {},
   "outputs": [
    {
     "name": "stdout",
     "output_type": "stream",
     "text": [
      "Goodbye Brian\n"
     ]
    }
   ],
   "source": [
    "brian = 'loretta'"
   ]
  },
  {
   "cell_type": "markdown",
   "metadata": {},
   "source": [
    "- 基于某些原因，析构函数在Python中用的不多"
   ]
  }
 ],
 "metadata": {
  "kernelspec": {
   "display_name": "Python 2",
   "language": "python",
   "name": "python2"
  },
  "language_info": {
   "codemirror_mode": {
    "name": "ipython",
    "version": 2
   },
   "file_extension": ".py",
   "mimetype": "text/x-python",
   "name": "python",
   "nbconvert_exporter": "python",
   "pygments_lexer": "ipython2",
   "version": "2.7.10"
  }
 },
 "nbformat": 4,
 "nbformat_minor": 2
}
