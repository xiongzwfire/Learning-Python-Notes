{
 "cells": [
  {
   "cell_type": "markdown",
   "metadata": {},
   "source": [
    "# 第33章 异常编码细节"
   ]
  },
  {
   "cell_type": "markdown",
   "metadata": {},
   "source": [
    "- 空的except子句是一种通用功能，可以捕捉任何异常，比较方便，但是也可能存在问题：可能捕捉和程序代码无关、意料之外的系统异常，而且可能以外拦截其它处理器的异常，因此要小心使用\n",
    "```python\n",
    "try:\n",
    "    action()\n",
    "except:\n",
    "    ...\n",
    "```"
   ]
  },
  {
   "cell_type": "markdown",
   "metadata": {},
   "source": [
    "## raise语句"
   ]
  },
  {
   "cell_type": "markdown",
   "metadata": {},
   "source": [
    "- 要显式地触发异常，可使用raise语句，其一般形式如下：\n",
    "```python\n",
    "raise <instance> # 一般而言，我们总是提供一个类的实例\n",
    "raise <class> # 隐式创建实例，等同于在类后加上圆括号\n",
    "raise # 重新引发最近的异常\n",
    "```"
   ]
  },
  {
   "cell_type": "markdown",
   "metadata": {},
   "source": [
    "- raise语句不包括异常名称或额外数据值时，就是重新引发当前异常，如果需要捕捉和处理一个异常，又不希望异常在程序代码中死掉时，一般就会使用这种形式；通过这种方式执行raise时，会重新引发异常，并将其传递给更高层的处理器（或者顶层的默认处理器，它会停止程序，打印标准出错信息）\n",
    "```python\n",
    "try:\n",
    "    raise IndexError()\n",
    "except:\n",
    "    print \"propagating\"\n",
    "    raise\n",
    "```"
   ]
  },
  {
   "cell_type": "markdown",
   "metadata": {},
   "source": [
    "## assert语句"
   ]
  },
  {
   "cell_type": "markdown",
   "metadata": {},
   "source": [
    "- assert可视为条件式的raise语句，该语句形式为`assert <test>, <data>`，执行起来等同于以下代码：\n",
    "```python\n",
    "if __debug__:\n",
    "    if not <test>:\n",
    "        raise AssertionError(<data>)\n",
    "```"
   ]
  },
  {
   "cell_type": "markdown",
   "metadata": {},
   "source": [
    "- assert几乎都是用来收集用户定义的约束条件，而不是捕捉内在的程序设计错误，因为Python会自行处理后者"
   ]
  },
  {
   "cell_type": "code",
   "execution_count": 1,
   "metadata": {},
   "outputs": [],
   "source": [
    "# 合理\n",
    "def f(x):\n",
    "    assert x < 0, \"x must be negative\"\n",
    "\n",
    "# 不合理，Python会在遇见错误时自动引发异常\n",
    "def f2(x):\n",
    "    assert x != 0\n",
    "    return 1 / x"
   ]
  },
  {
   "cell_type": "markdown",
   "metadata": {},
   "source": [
    "## with/as环境管理器"
   ]
  },
  {
   "cell_type": "markdown",
   "metadata": {},
   "source": [
    "### 基本使用"
   ]
  },
  {
   "cell_type": "markdown",
   "metadata": {},
   "source": [
    "- with语句的基本格式如下：\n",
    "```python\n",
    "with expression [as variable]:\n",
    "    with-block\n",
    "```\n",
    "- with不仅仅可用于文件的打开，也可用于锁的自动上锁和开锁：\n",
    "```python\n",
    "lock = threading.Lock()\n",
    "with lock:\n",
    "    ...access shared resources...\n",
    "```"
   ]
  }
 ],
 "metadata": {
  "kernelspec": {
   "display_name": "Python 2",
   "language": "python",
   "name": "python2"
  },
  "language_info": {
   "codemirror_mode": {
    "name": "ipython",
    "version": 2
   },
   "file_extension": ".py",
   "mimetype": "text/x-python",
   "name": "python",
   "nbconvert_exporter": "python",
   "pygments_lexer": "ipython2",
   "version": "2.7.10"
  }
 },
 "nbformat": 4,
 "nbformat_minor": 2
}
