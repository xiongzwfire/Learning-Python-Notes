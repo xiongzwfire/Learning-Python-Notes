{
 "cells": [
  {
   "cell_type": "markdown",
   "metadata": {},
   "source": [
    "# 第22章 模块代码编写基础"
   ]
  },
  {
   "cell_type": "markdown",
   "metadata": {},
   "source": [
    "## 模块的创建"
   ]
  },
  {
   "cell_type": "markdown",
   "metadata": {},
   "source": [
    "- 在模块顶层指定的所有变量名都会变成该模块的属性，并可以导出供客户端来使用\n",
    "- 模块怎么命名都可以，但是如果打算将其导入，则必须以.py结尾\n",
    "- 因为模块名在Python程序中会变成变量名，因此它的命名应该遵循普通变量名的命名规则"
   ]
  },
  {
   "cell_type": "markdown",
   "metadata": {},
   "source": [
    "## 模块的使用"
   ]
  },
  {
   "cell_type": "markdown",
   "metadata": {},
   "source": [
    "- 客户端可以执行import或from语句，以使用模块文件\n",
    "- from语句其实只是稍稍扩展了import语句而已，它照常导入了模块文件，但是多了一个步骤，将文件中的一个或多个变量名从文件中复制了出来（from总是会把整个模块导入到内存中，无论是从这个文件中复制出多少变量名）\n",
    "- from * 形式会将模块中所有变量名复制过来"
   ]
  },
  {
   "cell_type": "markdown",
   "metadata": {},
   "source": [
    "- 和def一样，import和from也是可执行的语句，而不是编译期间的声明，因此它们也可以出现在if语句、函数def之中，直至Python执行到这些语句，才会进行解析\n",
    "- 和def一样，import和from也是隐性的赋值语句：import将整个模块对象赋值给一个变量名，from将一个或多个变量名赋值给另一个模块中同名的对象\n",
    "- 关于赋值语句方面的内容，也适用于模块的读取，例如，以from复制的变量名会变成对共享对象的引用"
   ]
  },
  {
   "cell_type": "markdown",
   "metadata": {},
   "source": [
    "## from语句潜在的陷阱"
   ]
  },
  {
   "cell_type": "markdown",
   "metadata": {},
   "source": [
    "- from语句有破坏命名空间的潜质，如果使用from导入变量，而那些变量碰巧和作用域中现有变量同名，变量就会被覆盖\n",
    "- 和reload调用同时使用时，from语句导入的变量名可能引用之前版本的对象\n",
    "- from语句可能让变量名难以理解，尤其是在导入一个以上的文件时"
   ]
  },
  {
   "cell_type": "markdown",
   "metadata": {},
   "source": [
    "## 模块命名空间"
   ]
  },
  {
   "cell_type": "markdown",
   "metadata": {},
   "source": [
    "- 模块可以理解为变量名的封装，存在于模块之内的变量名（存在于模块文件顶层）就是模块对象的属性\n",
    "- 模块语句会在首次导入时执行，这时Python会建立空的模块对象，文件顶层赋值变量的语句会建立模块对象的属性，赋值的变量名会存储在模块的命名空间内"
   ]
  },
  {
   "cell_type": "markdown",
   "metadata": {},
   "source": [
    "## 导入和作用域"
   ]
  },
  {
   "cell_type": "markdown",
   "metadata": {},
   "source": [
    "```\n",
    "# moda.py\n",
    "X = 88\n",
    "def f():\n",
    "    global X\n",
    "    X = 99\n",
    "```"
   ]
  },
  {
   "cell_type": "markdown",
   "metadata": {},
   "source": [
    "```\n",
    "# modb.py\n",
    "X = 11\n",
    "import moda\n",
    "moda.f()\n",
    "print X, moda.X # 结果是 11， 99\n",
    "```"
   ]
  },
  {
   "cell_type": "markdown",
   "metadata": {},
   "source": [
    "- 函数绝对无法看见其它函数内的变量名，除非它们从物理上处于这个函数内\n",
    "- 模块程序代码绝对无法看见其它模块内的变量名，除非明确地进行了导入"
   ]
  },
  {
   "cell_type": "markdown",
   "metadata": {},
   "source": [
    "## reload"
   ]
  },
  {
   "cell_type": "markdown",
   "metadata": {},
   "source": [
    "- reload函数可以修改程序的一部分，而无须停止整个程序\n",
    "- reload期望得到的是对象，在重载之前，模块一定是已经预先导入了的\n",
    "- 重载会影响所有使用import读取了模块的客户端，因为使用import的客户端要通过点号运算取出属性，在重载后，它们会发现模块对象中变成了新值\n",
    "- 重载只会对以后使用from的客户端造成影响，之前使用from来读取属性的客户端并不会受到重载的影响，它们引用的依然是重载前所取出的旧对象"
   ]
  }
 ],
 "metadata": {
  "kernelspec": {
   "display_name": "Python 2",
   "language": "python",
   "name": "python2"
  },
  "language_info": {
   "codemirror_mode": {
    "name": "ipython",
    "version": 2
   },
   "file_extension": ".py",
   "mimetype": "text/x-python",
   "name": "python",
   "nbconvert_exporter": "python",
   "pygments_lexer": "ipython2",
   "version": "2.7.10"
  }
 },
 "nbformat": 4,
 "nbformat_minor": 2
}
