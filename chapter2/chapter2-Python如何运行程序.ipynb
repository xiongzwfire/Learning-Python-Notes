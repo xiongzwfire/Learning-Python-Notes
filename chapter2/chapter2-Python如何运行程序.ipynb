{
 "cells": [
  {
   "cell_type": "markdown",
   "metadata": {},
   "source": [
    "# 第2章 Python如何运行程序"
   ]
  },
  {
   "cell_type": "markdown",
   "metadata": {},
   "source": [
    "## Python解释器简介"
   ]
  },
  {
   "cell_type": "markdown",
   "metadata": {},
   "source": [
    "- 解释器是代码与机器的计算机硬件之间的软件逻辑层\n",
    "- 安装的”Python包“包含了一个解释器和支持的库\n",
    "- Python的解释器很多，如：CPython、IPython、PyPy、JPython、IronPython，使用最广泛的是CPython（参考[\\[1\\]][1]）\n",
    "[1]:https://blog.csdn.net/orangleliu/article/details/39204897"
   ]
  },
  {
   "cell_type": "markdown",
   "metadata": {},
   "source": [
    "## 程序执行"
   ]
  },
  {
   "cell_type": "markdown",
   "metadata": {},
   "source": [
    "- Python文件不一定以“.py”结尾，只有在被导入时才是必须的，此外，一些文本编辑器通过.py后缀来检测Python文件，继而使用诸如语法着色等功能\n",
    "- 程序执行\n",
    "    - 将源代码编译成字节码：字节码是源代码底层的、与平台无关的表现形式，字节码保存在.pyc文件中，保存字节码可以加快启动速度，如果只有.pyc文件，没有.py文件，程序也能执行\n",
    "    - 字节码发送到Python虚拟机（PVM）上执行：PVM就是迭代运行字节码指令的一个大循环"
   ]
  }
 ],
 "metadata": {
  "kernelspec": {
   "display_name": "Python 2",
   "language": "python",
   "name": "python2"
  },
  "language_info": {
   "codemirror_mode": {
    "name": "ipython",
    "version": 2
   },
   "file_extension": ".py",
   "mimetype": "text/x-python",
   "name": "python",
   "nbconvert_exporter": "python",
   "pygments_lexer": "ipython2",
   "version": "2.7.10"
  }
 },
 "nbformat": 4,
 "nbformat_minor": 2
}
