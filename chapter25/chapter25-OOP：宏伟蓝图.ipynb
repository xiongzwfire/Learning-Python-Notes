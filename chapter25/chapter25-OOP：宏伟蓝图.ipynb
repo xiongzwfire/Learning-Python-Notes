{
 "cells": [
  {
   "cell_type": "markdown",
   "metadata": {},
   "source": [
    "# 第25章 OOP：宏伟蓝图"
   ]
  },
  {
   "cell_type": "markdown",
   "metadata": {},
   "source": [
    "## 为何使用类"
   ]
  },
  {
   "cell_type": "markdown",
   "metadata": {},
   "source": [
    "- 类是封装逻辑和数据的另一种方式，实际上，类也定义新的命名空间，在很大程度上就像模块\n",
    "- 相比我们已见过的其它程序单元，类有三个特性：1.多重实例，类基本上就是产生对象的工厂，每次调用一个类，就会产生一个有独立命名空间的新对象；2.通过继承进行定制；3.运算符重载"
   ]
  },
  {
   "cell_type": "markdown",
   "metadata": {},
   "source": [
    "## 概览OOP"
   ]
  },
  {
   "cell_type": "markdown",
   "metadata": {},
   "source": [
    "### 属性继承搜索"
   ]
  },
  {
   "cell_type": "markdown",
   "metadata": {},
   "source": [
    "- 当我们使用`object.attribute`时，Python会启动搜索，从下至上（先搜索object，然后是该对象之上的所有类），寻找attribute首次出现的对象\n",
    "- 由于搜索是由下而上，派生类可能会在树中较低位置重新定义基类的变量名，从而覆盖基类定义的行为"
   ]
  },
  {
   "cell_type": "markdown",
   "metadata": {},
   "source": [
    "### 类和实例"
   ]
  },
  {
   "cell_type": "markdown",
   "metadata": {},
   "source": [
    "- 在Python中，类和实例是两种不同的对象类型，它们的主要差异在于，类是一种产生实例的工厂"
   ]
  },
  {
   "cell_type": "markdown",
   "metadata": {},
   "source": [
    "### 类方法调用"
   ]
  },
  {
   "cell_type": "markdown",
   "metadata": {},
   "source": [
    "- 方法能通过实例（例如，bob.giveRaise()）或类（例如，Employee.giveRaise(bob)）进行调用，这两种形式在脚本中都各有用途"
   ]
  },
  {
   "cell_type": "markdown",
   "metadata": {},
   "source": [
    "### 编写类树"
   ]
  },
  {
   "cell_type": "markdown",
   "metadata": {},
   "source": [
    "- 每个class语句会生成一个新的类对象\n",
    "- 每次类调用时，就会生成一个新的实例对象\n",
    "- 实例自动连接至创建了这些实例的类\n",
    "- 类连接至其基类的方式是，将基类列在类头部的括号内，其从左至右的顺序会决定树中的次序（搜索次序）"
   ]
  },
  {
   "cell_type": "markdown",
   "metadata": {},
   "source": [
    "- 附加在实例上的属性只属于那些实例，但附加在类上的属性则由所有子类及其实例共享\n",
    "- 对于由方法所定义的属性，在方法调用前，这个属性不会生效，因此我们常把一些属性的设置放在`__init__`函数中"
   ]
  },
  {
   "cell_type": "markdown",
   "metadata": {},
   "source": [
    "```python\n",
    "class C1(C2, C3):\n",
    "    def setname(self, who):\n",
    "        self.name = who\n",
    "I1 = C1()\n",
    "I1.setname(\"bob\") # 在方法setname被调用之前，引用I1.name是错误的\n",
    "```"
   ]
  },
  {
   "cell_type": "markdown",
   "metadata": {},
   "source": [
    "## OOP是为了代码重用"
   ]
  }
 ],
 "metadata": {
  "kernelspec": {
   "display_name": "Python 2",
   "language": "python",
   "name": "python2"
  },
  "language_info": {
   "codemirror_mode": {
    "name": "ipython",
    "version": 2
   },
   "file_extension": ".py",
   "mimetype": "text/x-python",
   "name": "python",
   "nbconvert_exporter": "python",
   "pygments_lexer": "ipython2",
   "version": "2.7.10"
  }
 },
 "nbformat": 4,
 "nbformat_minor": 2
}
