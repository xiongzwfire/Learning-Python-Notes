{
 "cells": [
  {
   "cell_type": "markdown",
   "metadata": {},
   "source": [
    "# 第23章 模块包"
   ]
  },
  {
   "cell_type": "markdown",
   "metadata": {},
   "source": [
    "- 除了模块名之外，导入也可以指定目录路径，Python代码的目录就称为包，因此，这类导入就称为包导入；事实上，包导入是把计算机上的目录变成另一个Python命名空间，而属性则对应于目录中所包含的子目录和模块文件"
   ]
  },
  {
   "cell_type": "markdown",
   "metadata": {},
   "source": [
    "## 包导入基础"
   ]
  },
  {
   "cell_type": "markdown",
   "metadata": {},
   "source": [
    "- 包导入是如何运作的呢？在import语句中列举简单文件名的地方，可以改成列出路径的名字，彼此以点号相隔`import dir1,dir2.mod`，from语句也是一样的`from dir1.dir2.mod import x`\n",
    "- 上面的语句表明机器上有个目录dir1，而dir1里有个子目录dir2，而dir2内包含有一个名为mod.py（或类似文件）的模块文件\n",
    "- 此外，这些导入意味着，dir1位在某个容器目录dir0中，这个目录可以在Python模块搜索路径中找到"
   ]
  },
  {
   "cell_type": "markdown",
   "metadata": {},
   "source": [
    "- 包导入语句的路径中每个目录内都必须有`__init__.py`这个文件，否则包导入会失败，因此，上面例子的目录结构应该如下：\n",
    "```\n",
    "    dir0/\n",
    "        dir1/\n",
    "            __init__.py\n",
    "            dir2/\n",
    "                __init__.py\n",
    "                mod.py\n",
    "```\n",
    "- Python首次导入某个目录时，会自动执行该目录下`__init__.py`文件中所有代码，因此它可以放置一些包内文件所需要初始化的代码，当然，它也可以为空\n",
    "- 包导入中，目录路径在导入后会变成真实的嵌套对象路径，例如，上面的例子中，导入后，表达式dir1.dir2会运行，并返回一个模块对象，而此对象的命名空间包含了dir2的`__init__.py`文件所赋值的所有变量名\n",
    "- 就像模块文件一样，任何已导入的目录也可以传递给reload"
   ]
  },
  {
   "cell_type": "markdown",
   "metadata": {},
   "source": [
    "## 为什么要使用包导入"
   ]
  },
  {
   "cell_type": "markdown",
   "metadata": {},
   "source": [
    "- 包导入提供了程序文件的目录信息，因此可以轻松找到文件\n",
    "- 包导入可以大幅简化PYTHONPATH和.pth文件搜索路径设置，实际上，如果所有跨目录的导入，都使用包导入，并且让这些包导入都相对于一个共同的根目录，把所有Python程序代码都存其中，在搜索路径上就只需一个单独的接入点：通用的根目录\n",
    "- 包导入可以解决当多个同名程序文件安装在同一个机器上时，所引发的模糊性"
   ]
  },
  {
   "cell_type": "markdown",
   "metadata": {},
   "source": [
    "## 包相对导入"
   ]
  },
  {
   "cell_type": "markdown",
   "metadata": {},
   "source": [
    "- 在包自身的内部，包文件的导入可以使用和外部导入相同的路径语法，但是，它们也可能使用特殊的包内搜索规则来简化导入语句，也就是说，包内的导入可能相对于包，而不是列出包导入路径"
   ]
  },
  {
   "cell_type": "markdown",
   "metadata": {},
   "source": [
    "### Python 3.0中的变化"
   ]
  },
  {
   "cell_type": "markdown",
   "metadata": {},
   "source": [
    "- 对于包中的导入，Python3.0引入了两个变化：1.它改变了模块导入搜索路径语义，以默认地跳过包自己的目录，导入只是检查搜索路径的其它组件，这叫做“绝对”导入；2.它扩展了from语句的语法，以允许显式地要求导入只搜索包的目录，这叫做“相对”导入语法\n",
    "- 前面没有点号的from语句与import语句的行为相同，在Python 3.0中是绝对的（略过包目录，采用sys.path的路径），并且在Python2.6中是先相对再绝对（先搜索包目录）\n",
    "- 前面有点号的from语句，在Python3.0和Python2.6中行为相同，都只把包的目录作为唯一搜索目录，因此，相对导入所引用的模块必须在包目录中存在，否则导入会失败"
   ]
  },
  {
   "cell_type": "markdown",
   "metadata": {},
   "source": [
    "### 相对导入的作用域"
   ]
  },
  {
   "cell_type": "markdown",
   "metadata": {},
   "source": [
    "- 相对导入适用于只在包内导入\n",
    "- 相对导入只适用于from语句"
   ]
  }
 ],
 "metadata": {
  "kernelspec": {
   "display_name": "Python 2",
   "language": "python",
   "name": "python2"
  },
  "language_info": {
   "codemirror_mode": {
    "name": "ipython",
    "version": 2
   },
   "file_extension": ".py",
   "mimetype": "text/x-python",
   "name": "python",
   "nbconvert_exporter": "python",
   "pygments_lexer": "ipython2",
   "version": "2.7.10"
  }
 },
 "nbformat": 4,
 "nbformat_minor": 2
}
