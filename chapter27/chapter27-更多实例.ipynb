{
 "cells": [
  {
   "cell_type": "markdown",
   "metadata": {},
   "source": [
    "# 第27章 更多实例"
   ]
  },
  {
   "cell_type": "markdown",
   "metadata": {},
   "source": [
    "- Python的类系统实际上很大程度上就是在一堆对象中查找属性，并为函数给定一个特殊的第一个参数"
   ]
  },
  {
   "cell_type": "markdown",
   "metadata": {},
   "source": [
    "## 步骤1：创建实例"
   ]
  },
  {
   "cell_type": "markdown",
   "metadata": {},
   "source": [
    "- 类的方法第一个参数名实际上代表的是新创建的实例对象\n",
    "- 类的方法第一个参数名不一定非得是`self`，只是约定俗成而已"
   ]
  },
  {
   "cell_type": "code",
   "execution_count": 1,
   "metadata": {},
   "outputs": [],
   "source": [
    "class Test:\n",
    "    def f1(ins, name):\n",
    "        ins.name = name\n",
    "        print \"set the name\""
   ]
  },
  {
   "cell_type": "code",
   "execution_count": 2,
   "metadata": {},
   "outputs": [
    {
     "name": "stdout",
     "output_type": "stream",
     "text": [
      "set the name\n"
     ]
    }
   ],
   "source": [
    "test = Test()\n",
    "test.f1(\"Bob\")"
   ]
  },
  {
   "cell_type": "code",
   "execution_count": 3,
   "metadata": {},
   "outputs": [
    {
     "data": {
      "text/plain": [
       "'Bob'"
      ]
     },
     "execution_count": 3,
     "metadata": {},
     "output_type": "execute_result"
    }
   ],
   "source": [
    "test.name"
   ]
  },
  {
   "cell_type": "markdown",
   "metadata": {},
   "source": [
    "- `__init__`函数会在每次创建新的实例对象时自动调用"
   ]
  },
  {
   "cell_type": "markdown",
   "metadata": {},
   "source": [
    "## 步骤3：运算符重载"
   ]
  },
  {
   "cell_type": "markdown",
   "metadata": {},
   "source": [
    "- 打印一个对象，会显示对象的`__str__`方法所返回的内容，要么自己定义一个该方法，要么从一个积累继承一个该方法"
   ]
  },
  {
   "cell_type": "markdown",
   "metadata": {},
   "source": [
    "## 步骤4：通过子类定制行为"
   ]
  },
  {
   "cell_type": "markdown",
   "metadata": {},
   "source": [
    "- 如下的常规方法调用：`instance.method(args...)`，由Python自动地转换为如下的同等形式：`class.method(instance, args...)`"
   ]
  },
  {
   "cell_type": "markdown",
   "metadata": {},
   "source": [
    "## 步骤5：定制构造函数"
   ]
  },
  {
   "cell_type": "code",
   "execution_count": 4,
   "metadata": {},
   "outputs": [
    {
     "name": "stdout",
     "output_type": "stream",
     "text": [
      "[Person: Bob Smith, 0]\n",
      "[Person: Sue Jones, 100000]\n",
      "Smith Jones\n",
      "[Person: Sue Jones, 110000]\n",
      "Jones\n",
      "[Person: Tom Jones, 60000]\n"
     ]
    }
   ],
   "source": [
    "class Person:\n",
    "    def __init__(self, name, job=None, pay=0):\n",
    "        self.name = name\n",
    "        self.job = job\n",
    "        self.pay = pay\n",
    "    def lastName(self):\n",
    "        return self.name.split()[-1]\n",
    "    def giveRaise(self, percent):\n",
    "        self.pay = int(self.pay * (1 + percent))\n",
    "    def __str__(self):\n",
    "        return '[Person: %s, %s]' % (self.name, self.pay)\n",
    "\n",
    "class Manager(Person):\n",
    "    def __init__(self, name, pay):\n",
    "        Person.__init__(self, name, 'mgr', pay)\n",
    "    def giveRaise(self, percent, bonus=.10):\n",
    "        Person.giveRaise(self, percent + bonus)\n",
    "        \n",
    "bob = Person('Bob Smith')\n",
    "sue = Person('Sue Jones', job='dev', pay=100000)\n",
    "print bob\n",
    "print sue\n",
    "print bob.lastName(), sue.lastName()\n",
    "sue.giveRaise(.10)\n",
    "print sue\n",
    "tom = Manager('Tom Jones', 50000)\n",
    "tom.giveRaise(.10)\n",
    "print tom.lastName()\n",
    "print tom"
   ]
  },
  {
   "cell_type": "markdown",
   "metadata": {},
   "source": [
    "## 步骤6：使用内省工具"
   ]
  },
  {
   "cell_type": "markdown",
   "metadata": {},
   "source": [
    "- 内置的`instance.__class__`属性提供了一个从实例到创建它的类的链接，类反过来有一个`__name__`，还有一个`__bases__`序列，提供了基类的访问\n",
    "- 内置的`object.__dict__`属性提供了一个字典，带有一个键/值对，以便每个属性都附加到一个命名空间对象"
   ]
  },
  {
   "cell_type": "code",
   "execution_count": 5,
   "metadata": {},
   "outputs": [
    {
     "data": {
      "text/plain": [
       "'Manager'"
      ]
     },
     "execution_count": 5,
     "metadata": {},
     "output_type": "execute_result"
    }
   ],
   "source": [
    "Manager.__name__"
   ]
  },
  {
   "cell_type": "code",
   "execution_count": 6,
   "metadata": {},
   "outputs": [
    {
     "data": {
      "text/plain": [
       "(<class __main__.Person at 0x10b74a258>,)"
      ]
     },
     "execution_count": 6,
     "metadata": {},
     "output_type": "execute_result"
    }
   ],
   "source": [
    "Manager.__bases__"
   ]
  },
  {
   "cell_type": "code",
   "execution_count": 7,
   "metadata": {},
   "outputs": [
    {
     "name": "stdout",
     "output_type": "stream",
     "text": [
      "[Person: Bob Smith, 0]\n"
     ]
    }
   ],
   "source": [
    "bob = Person('Bob Smith')\n",
    "print bob"
   ]
  },
  {
   "cell_type": "code",
   "execution_count": 8,
   "metadata": {},
   "outputs": [
    {
     "data": {
      "text/plain": [
       "<class __main__.Person at 0x10b74a258>"
      ]
     },
     "execution_count": 8,
     "metadata": {},
     "output_type": "execute_result"
    }
   ],
   "source": [
    "bob.__class__"
   ]
  },
  {
   "cell_type": "code",
   "execution_count": 9,
   "metadata": {},
   "outputs": [
    {
     "data": {
      "text/plain": [
       "'Person'"
      ]
     },
     "execution_count": 9,
     "metadata": {},
     "output_type": "execute_result"
    }
   ],
   "source": [
    "bob.__class__.__name__"
   ]
  },
  {
   "cell_type": "code",
   "execution_count": 10,
   "metadata": {},
   "outputs": [
    {
     "data": {
      "text/plain": [
       "['pay', 'job', 'name']"
      ]
     },
     "execution_count": 10,
     "metadata": {},
     "output_type": "execute_result"
    }
   ],
   "source": [
    "list(bob.__dict__.keys())"
   ]
  },
  {
   "cell_type": "markdown",
   "metadata": {},
   "source": [
    "### 一种通用显示工具"
   ]
  },
  {
   "cell_type": "code",
   "execution_count": 11,
   "metadata": {
    "scrolled": true
   },
   "outputs": [
    {
     "name": "stdout",
     "output_type": "stream",
     "text": [
      "[TopTest: attr1=0, attr2=1]\n",
      "[SubTest: attr1=2, attr2=3]\n"
     ]
    }
   ],
   "source": [
    "class AttrDisplay:\n",
    "    def gatherAttrs(self):\n",
    "        attrs = []\n",
    "        for key in sorted(self.__dict__):\n",
    "            attrs.append('%s=%s' % (key, getattr(self, key)))\n",
    "        return ', '.join(attrs)\n",
    "    def __str__(self):\n",
    "        return '[%s: %s]' % (self.__class__.__name__, self.gatherAttrs())\n",
    "\n",
    "class TopTest(AttrDisplay):\n",
    "    count = 0\n",
    "    def __init__(self):\n",
    "        self.attr1 = TopTest.count\n",
    "        self.attr2 = TopTest.count + 1\n",
    "        TopTest.count += 2\n",
    "class SubTest(TopTest):\n",
    "    pass\n",
    "\n",
    "X, Y = TopTest(), SubTest()\n",
    "print X\n",
    "print Y"
   ]
  },
  {
   "cell_type": "markdown",
   "metadata": {},
   "source": [
    "### 实例与类属性的关系"
   ]
  },
  {
   "cell_type": "markdown",
   "metadata": {},
   "source": [
    "- `__dict__`只会获取实例本身的属性，`dir()`还可以获取实例从其树上面的类那里继承来的属性"
   ]
  },
  {
   "cell_type": "code",
   "execution_count": 12,
   "metadata": {},
   "outputs": [
    {
     "data": {
      "text/plain": [
       "['gatherAttrs', '__module__', '__str__', '__doc__']"
      ]
     },
     "execution_count": 12,
     "metadata": {},
     "output_type": "execute_result"
    }
   ],
   "source": [
    "AttrDisplay.__dict__.keys()"
   ]
  },
  {
   "cell_type": "code",
   "execution_count": 13,
   "metadata": {},
   "outputs": [
    {
     "data": {
      "text/plain": [
       "['count', '__module__', '__doc__', '__init__']"
      ]
     },
     "execution_count": 13,
     "metadata": {},
     "output_type": "execute_result"
    }
   ],
   "source": [
    "TopTest.__dict__.keys()"
   ]
  },
  {
   "cell_type": "code",
   "execution_count": 14,
   "metadata": {},
   "outputs": [
    {
     "data": {
      "text/plain": [
       "['attr2', 'attr1']"
      ]
     },
     "execution_count": 14,
     "metadata": {},
     "output_type": "execute_result"
    }
   ],
   "source": [
    "X.__dict__.keys()"
   ]
  },
  {
   "cell_type": "code",
   "execution_count": 15,
   "metadata": {},
   "outputs": [
    {
     "data": {
      "text/plain": [
       "['__doc__',\n",
       " '__init__',\n",
       " '__module__',\n",
       " '__str__',\n",
       " 'attr1',\n",
       " 'attr2',\n",
       " 'count',\n",
       " 'gatherAttrs']"
      ]
     },
     "execution_count": 15,
     "metadata": {},
     "output_type": "execute_result"
    }
   ],
   "source": [
    "dir(X)"
   ]
  },
  {
   "cell_type": "markdown",
   "metadata": {},
   "source": [
    "### 工具类的命名考虑"
   ]
  },
  {
   "cell_type": "markdown",
   "metadata": {},
   "source": [
    "- 为了减少名称冲突的机会，Python常常对于不想做其它用途的方法添加一个单下划线的前缀，例如之前的`gatherAttrs`可以变为`_gatherAttrs`\n",
    "- 一种更好的但不太常用的方法是，只在方法名前面使用双下划线，如`__gatherAttrs`，Python自动扩展这样的名称，以包含类的名称，从而使它们变得真正唯一，这一功能通常叫做伪私有类属性（后面我们还会详细讲到）"
   ]
  }
 ],
 "metadata": {
  "kernelspec": {
   "display_name": "Python 2",
   "language": "python",
   "name": "python2"
  },
  "language_info": {
   "codemirror_mode": {
    "name": "ipython",
    "version": 2
   },
   "file_extension": ".py",
   "mimetype": "text/x-python",
   "name": "python",
   "nbconvert_exporter": "python",
   "pygments_lexer": "ipython2",
   "version": "2.7.10"
  }
 },
 "nbformat": 4,
 "nbformat_minor": 2
}
