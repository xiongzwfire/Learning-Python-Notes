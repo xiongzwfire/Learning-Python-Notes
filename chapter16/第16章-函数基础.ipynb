{
 "cells": [
  {
   "cell_type": "markdown",
   "metadata": {},
   "source": [
    "# 第16章 函数基础"
   ]
  },
  {
   "cell_type": "markdown",
   "metadata": {},
   "source": [
    "## 编写函数"
   ]
  },
  {
   "cell_type": "markdown",
   "metadata": {},
   "source": [
    "- def是可执行的代码；Python的函数是由一个新的语句编写的，即def；不想C这样的编译语言，def是一个可执行的语句——函数并不存在，直到Python运行了def后才存在"
   ]
  },
  {
   "cell_type": "markdown",
   "metadata": {},
   "source": [
    "- def创建了一个对象并将其赋值给某一变量名；当Python运行到def语句时，它将会生成一个新的函数对象并将其赋值给这个函数名，就像所有的赋值一样，函数名变成了某一个函数的引用；函数名其实并没有什么神奇——就像你将看到的那样，函数对象可以赋值给其它的变量名，保存在列表之中；函数也可以通过lambda表达式来创建"
   ]
  },
  {
   "cell_type": "markdown",
   "metadata": {},
   "source": [
    "- lambda创建一个对象但将其作为结果返回；也可以用lambda表达式创建函数，这一功能允许我们把函数定义内联到语法上一条def语句不能工作的地方"
   ]
  },
  {
   "cell_type": "markdown",
   "metadata": {},
   "source": [
    "- 函数是通过赋值（对象引用）传递的；在Python中，参数通过赋值传递给了函数（也就是说，就像我们所学过的，使用对象引用）；正如你将看到的那样，Python的模式中，调用者以及函数通过引用共享对象，但是不需要别名；改变函数中的参数名并不会改变调用者中的变量名，但是改变传递的可变对象可以改变调用者共享的那个对象"
   ]
  },
  {
   "cell_type": "markdown",
   "metadata": {},
   "source": [
    "## def语句"
   ]
  },
  {
   "cell_type": "markdown",
   "metadata": {},
   "source": [
    "- return语句是可选的，如果它没有出现，那么函数将会在控制流执行完函数主体时结束，从技术角度来讲，一个没有返回值的函数自动返回了None对象，但是这个值是往往被忽略掉的"
   ]
  },
  {
   "cell_type": "markdown",
   "metadata": {},
   "source": [
    "- Python的def语句实际上是一个可执行的语句，因此它可以出现在任一语句可出现的地方——甚至是嵌套在其他语句中，例如，可以通过嵌套在if语句中去实现不同的函数定义"
   ]
  },
  {
   "cell_type": "markdown",
   "metadata": {},
   "source": [
    "```python\n",
    "if test:\n",
    "    def func():\n",
    "        ...\n",
    "else:\n",
    "    def func():\n",
    "        ...\n",
    "func()\n",
    "```"
   ]
  }
 ],
 "metadata": {
  "kernelspec": {
   "display_name": "Python 2",
   "language": "python",
   "name": "python2"
  },
  "language_info": {
   "codemirror_mode": {
    "name": "ipython",
    "version": 2
   },
   "file_extension": ".py",
   "mimetype": "text/x-python",
   "name": "python",
   "nbconvert_exporter": "python",
   "pygments_lexer": "ipython2",
   "version": "2.7.10"
  }
 },
 "nbformat": 4,
 "nbformat_minor": 2
}
