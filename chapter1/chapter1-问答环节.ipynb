{
 "cells": [
  {
   "cell_type": "markdown",
   "metadata": {},
   "source": [
    "# 第1章 问答环节"
   ]
  },
  {
   "cell_type": "markdown",
   "metadata": {},
   "source": [
    "## 人们为何使用Python"
   ]
  },
  {
   "cell_type": "markdown",
   "metadata": {},
   "source": [
    "- 软件质量：可读性好，易于理解\n",
    "- 提高开发者的效率\n",
    "- 程序的可移植性\n",
    "- 标准库的支持：也包括许多第三方库\n",
    "- 组件集成\n",
    "- 享受乐趣"
   ]
  },
  {
   "cell_type": "markdown",
   "metadata": {},
   "source": [
    "## Python的缺点"
   ]
  },
  {
   "cell_type": "markdown",
   "metadata": {},
   "source": [
    "- Python的执行速度不够快：与C和C++这类编译语言相比\n",
    "- Python所使用的一些库，底层采用C实现，可以加速Python执行（如 NumPy）"
   ]
  },
  {
   "cell_type": "markdown",
   "metadata": {},
   "source": [
    "## 使用Python可以做什么"
   ]
  },
  {
   "cell_type": "markdown",
   "metadata": {},
   "source": [
    "- 系统编程：编写可移植的维护操作系统的管理工具和部件\n",
    "- 用户图形接口\n",
    "- Internet脚本\n",
    "- 组件集成\n",
    "- 数据库编程\n",
    "- 快速原型\n",
    "- 数值计算和科学计算编程\n",
    "- 其它"
   ]
  }
 ],
 "metadata": {
  "kernelspec": {
   "display_name": "Python 2",
   "language": "python",
   "name": "python2"
  },
  "language_info": {
   "codemirror_mode": {
    "name": "ipython",
    "version": 2
   },
   "file_extension": ".py",
   "mimetype": "text/x-python",
   "name": "python",
   "nbconvert_exporter": "python",
   "pygments_lexer": "ipython2",
   "version": "2.7.10"
  }
 },
 "nbformat": 4,
 "nbformat_minor": 2
}
