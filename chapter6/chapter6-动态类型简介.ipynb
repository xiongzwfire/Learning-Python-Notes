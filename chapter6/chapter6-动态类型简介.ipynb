{
 "cells": [
  {
   "cell_type": "markdown",
   "metadata": {},
   "source": [
    "# 第6章 动态类型简介"
   ]
  },
  {
   "cell_type": "markdown",
   "metadata": {},
   "source": [
    "## 缺少类型声明语句的情况"
   ]
  },
  {
   "cell_type": "markdown",
   "metadata": {},
   "source": [
    "- 在Python中，类型是在运行过程中自动决定的，而不是通过代码声明"
   ]
  },
  {
   "cell_type": "markdown",
   "metadata": {},
   "source": [
    "## 变量、对象和引用"
   ]
  },
  {
   "cell_type": "markdown",
   "metadata": {},
   "source": [
    "- 变量创建：一个变量（也就是说变量名），就像a，当代码第一次给它赋值时就创建了它，之后的赋值将会改变已创建的变量名的值\n",
    "- 变量类型： 变量永远不会有任何的和它关联的类型信息或约束，类型属于对象而不是变量，变量是通用的，它只是在特定的时间点引用了一个特定的对象\n",
    "- 变量使用：当变量出现在表达式中，它会立马被当前引用的对象所代替，无论对象是什么类型，变量必须在使用前被赋值\n",
    "\n",
    "**总而言之，变量在赋值的时候才创建，它可以引用任何类型的对象，并且必须在引用之前赋值**"
   ]
  },
  {
   "cell_type": "markdown",
   "metadata": {},
   "source": [
    "举个例子，当输入`a = 3`时，从概念上来说，Python将会执行以下三个步骤：\n",
    "1. 创建一个对象来代表3\n",
    "2. 创建一个变量a，如果它还没有创建的话\n",
    "3. 将变量a作为对象3的引用\n",
    "\n",
    "做一些进一步的解释：\n",
    "- 变量是一个系统表的元素，拥有指向对象的连接的空间\n",
    "- 对象是分配的一块内存，有足够的空间去表示它们所代表的值；另，每个对象都有两个标准的头部信息：一个类型标识符去标识这个对象的类型，以及一个引用的计数器，用来决定是不是可以回收这个对象\n",
    "- 引用是自动形成的从变量到对象的指针（变量中存储着对象所在的内存地址）"
   ]
  },
  {
   "cell_type": "markdown",
   "metadata": {},
   "source": [
    "- 作为一种优化，Python缓存了不变的对象并对其进行复用，例如，小的整数和字符串（如，每一个‘0’都不是一块真正的、新的内存块），具体可参考[\\[1\\]](https://www.cnblogs.com/c-x-m/articles/7749968.html)和[\\[2\\]](https://blog.csdn.net/lnotime/article/details/81772992)"
   ]
  },
  {
   "cell_type": "markdown",
   "metadata": {},
   "source": [
    "## 对象的垃圾收集（Garbage Collection，GC）"
   ]
  },
  {
   "cell_type": "markdown",
   "metadata": {},
   "source": [
    "- 在Python中，每个对象有一个计数器，记录当前指向该对象的引用数目，一旦计数器被置为0，该对象的内存空间就会被自动回收（放入自由空间池，等待后来的对象使用）"
   ]
  },
  {
   "cell_type": "markdown",
   "metadata": {},
   "source": [
    "- Python的GC，采用的是引用计数机制为主，标记-清除和分代回收两种机制为辅的策略，具体可参考[这篇博客](https://blog.csdn.net/u012294618/article/details/83181011)"
   ]
  },
  {
   "cell_type": "markdown",
   "metadata": {},
   "source": [
    "## 共享引用"
   ]
  },
  {
   "cell_type": "markdown",
   "metadata": {},
   "source": [
    "- 多个变量名引用了同一个对象，即为共享引用"
   ]
  },
  {
   "cell_type": "code",
   "execution_count": 1,
   "metadata": {},
   "outputs": [
    {
     "name": "stdout",
     "output_type": "stream",
     "text": [
      "3\n",
      "3\n"
     ]
    }
   ],
   "source": [
    "a = 3\n",
    "b = a# a 和 b 引用了同一个对象“3”，它们指向了相同的内存空间\n",
    "print a\n",
    "print b"
   ]
  },
  {
   "cell_type": "code",
   "execution_count": 2,
   "metadata": {},
   "outputs": [
    {
     "name": "stdout",
     "output_type": "stream",
     "text": [
      "spam\n",
      "3\n"
     ]
    }
   ],
   "source": [
    "a = 3\n",
    "b = a\n",
    "a = 'spam'# Python 创建了一个新对象“spam”，并设置a对这个新对象进行引用，b仍然引用原始的对象“3”\n",
    "print a\n",
    "print b"
   ]
  },
  {
   "cell_type": "code",
   "execution_count": 3,
   "metadata": {},
   "outputs": [
    {
     "name": "stdout",
     "output_type": "stream",
     "text": [
      "5\n",
      "3\n"
     ]
    }
   ],
   "source": [
    "a = 3\n",
    "b = a\n",
    "a = a + 2 # 由于整数是不可变的，因此a+2生成了一个新的对象，并设置a对这个新对象进行引用，b仍然引用原始的对象“3”\n",
    "print a\n",
    "print b"
   ]
  },
  {
   "cell_type": "markdown",
   "metadata": {},
   "source": [
    "## 共享引用和在原处修改"
   ]
  },
  {
   "cell_type": "markdown",
   "metadata": {},
   "source": [
    "- 对于支持在原处修改的对象（也即可变对象），共享引用时，对一个变量的修改会影响到其它变量"
   ]
  },
  {
   "cell_type": "code",
   "execution_count": 4,
   "metadata": {},
   "outputs": [
    {
     "name": "stdout",
     "output_type": "stream",
     "text": [
      "[2, 3, 4]\n",
      "[2, 3, 4]\n",
      "[100, 3, 4]\n",
      "[100, 3, 4]\n"
     ]
    }
   ],
   "source": [
    "# L1和L2引用了同一个列表对象，这个列表对象又包括了对3个整型对象的引用；L1[0] = 100，这个语句使得列表对象的第0个元素指向了“100”这个新对象，但是列表对象本身的内存地址并没有改变；因此，L1和L2依然引用之前的列表对象，只不过列表对象所引用的元素发生了变化\n",
    "L1 = [2, 3, 4]\n",
    "L2 = L1\n",
    "print L1\n",
    "print L2\n",
    "L1[0] = 100\n",
    "print L1\n",
    "print L2"
   ]
  },
  {
   "cell_type": "markdown",
   "metadata": {},
   "source": [
    "- 如果想避免这种情况，可以拷贝对象：使用分片表达式、使用对象的copy方法（set\\dict）、copy模块，除了copy模块中的deepcopy是深拷贝，其余的都是浅拷贝，即只拷贝顶层对象"
   ]
  },
  {
   "cell_type": "code",
   "execution_count": 5,
   "metadata": {},
   "outputs": [
    {
     "name": "stdout",
     "output_type": "stream",
     "text": [
      "[2, 3, [10, 100, 1000, ['1', '2']], 'a']\n",
      "[2, 3, [10, 100, 1000, ['1', '2']], 'a']\n",
      "[2, 3, [10, 100, 1000, ['1', '2']], 'a']\n",
      "[2, 3, [10, 100, 1000, ['1', '2']], 'a']\n"
     ]
    }
   ],
   "source": [
    "import copy\n",
    "L1 = [2, 3, [10, 100, 1000, ['1', '2']], 'a']\n",
    "L2 = L1[:]\n",
    "L3 = copy.copy(L1)\n",
    "L4 = copy.deepcopy(L1)\n",
    "print L1\n",
    "print L2\n",
    "print L3\n",
    "print L4"
   ]
  },
  {
   "cell_type": "code",
   "execution_count": 6,
   "metadata": {},
   "outputs": [
    {
     "name": "stdout",
     "output_type": "stream",
     "text": [
      "[2, 3, [10, 100, 1000, ['1', '2']], 'a', 6]\n",
      "[2, 3, [10, 100, 1000, ['1', '2']], 'a']\n",
      "[2, 3, [10, 100, 1000, ['1', '2']], 'a']\n",
      "[2, 3, [10, 100, 1000, ['1', '2']], 'a']\n"
     ]
    }
   ],
   "source": [
    "L1.append(6)\n",
    "print L1\n",
    "print L2\n",
    "print L3\n",
    "print L4"
   ]
  },
  {
   "cell_type": "code",
   "execution_count": 7,
   "metadata": {},
   "outputs": [
    {
     "name": "stdout",
     "output_type": "stream",
     "text": [
      "[2, 3, [-10, 100, 1000, ['1', '2']], 'a', 6]\n",
      "[2, 3, [-10, 100, 1000, ['1', '2']], 'a']\n",
      "[2, 3, [-10, 100, 1000, ['1', '2']], 'a']\n",
      "[2, 3, [10, 100, 1000, ['1', '2']], 'a']\n"
     ]
    }
   ],
   "source": [
    "L1[2][0] = -10\n",
    "print L1\n",
    "print L2\n",
    "print L3\n",
    "print L4"
   ]
  },
  {
   "cell_type": "code",
   "execution_count": 8,
   "metadata": {},
   "outputs": [
    {
     "name": "stdout",
     "output_type": "stream",
     "text": [
      "[2, 3, [-10, 100, 1000, ['a', '2']], 'a', 6]\n",
      "[2, 3, [-10, 100, 1000, ['a', '2']], 'a']\n",
      "[2, 3, [-10, 100, 1000, ['a', '2']], 'a']\n",
      "[2, 3, [10, 100, 1000, ['1', '2']], 'a']\n"
     ]
    }
   ],
   "source": [
    "L1[2][3][0] = 'a'\n",
    "print L1\n",
    "print L2\n",
    "print L3\n",
    "print L4"
   ]
  },
  {
   "cell_type": "markdown",
   "metadata": {},
   "source": [
    "## 共享引用和相等"
   ]
  },
  {
   "cell_type": "markdown",
   "metadata": {},
   "source": [
    "- “==”操作符，可以测试两个被引用的对象是否有相同的值；“is”操作符，可以测试两个变量名是否精确地指向同一个对象；id函数可以获取对象的内存地址，如果两个对象的内存地址一致，则它们是同一个对象，因此该函数的作用等同于is（也有特殊情况，这里不讨论）"
   ]
  },
  {
   "cell_type": "code",
   "execution_count": 9,
   "metadata": {},
   "outputs": [
    {
     "name": "stdout",
     "output_type": "stream",
     "text": [
      "True\n",
      "False\n",
      "4382370272 4383269232\n"
     ]
    }
   ],
   "source": [
    "L1 = [1, 2, 3]\n",
    "L2 = [1, 2, 3]\n",
    "print L1 == L2\n",
    "print L1 is L2\n",
    "print id(L1), id(L2)"
   ]
  },
  {
   "cell_type": "code",
   "execution_count": 10,
   "metadata": {},
   "outputs": [
    {
     "name": "stdout",
     "output_type": "stream",
     "text": [
      "True\n",
      "True\n",
      "4383119048 4383119048\n"
     ]
    }
   ],
   "source": [
    "L1 = [1, 2, 3]\n",
    "L2 = L1\n",
    "print L1 == L2\n",
    "print L1 is L2\n",
    "print id(L1), id(L2)"
   ]
  },
  {
   "cell_type": "code",
   "execution_count": 11,
   "metadata": {},
   "outputs": [
    {
     "name": "stdout",
     "output_type": "stream",
     "text": [
      "True\n",
      "True\n",
      "140654118206984 140654118206984\n"
     ]
    }
   ],
   "source": [
    "# Python 缓存了小的整数和字符串，因此a和b均指向了同一个对象\n",
    "a = 3\n",
    "b = 3\n",
    "print a == b\n",
    "print a is b\n",
    "print id(a), id(b)"
   ]
  },
  {
   "cell_type": "code",
   "execution_count": 12,
   "metadata": {},
   "outputs": [
    {
     "name": "stdout",
     "output_type": "stream",
     "text": [
      "True\n",
      "False\n",
      "140654156174800 140654156174848\n"
     ]
    }
   ],
   "source": [
    "a = 1994 * 1995\n",
    "b = 1994 * 1995\n",
    "print a == b\n",
    "print a is b\n",
    "print id(a), id(b)"
   ]
  },
  {
   "cell_type": "markdown",
   "metadata": {},
   "source": [
    "- 采用sys模块中的getrefcount函数可以返回对象的引用次数"
   ]
  },
  {
   "cell_type": "code",
   "execution_count": 13,
   "metadata": {},
   "outputs": [
    {
     "data": {
      "text/plain": [
       "2204"
      ]
     },
     "execution_count": 13,
     "metadata": {},
     "output_type": "execute_result"
    }
   ],
   "source": [
    "import sys\n",
    "sys.getrefcount(1)# 绝大多数都是被系统代码所引用的"
   ]
  }
 ],
 "metadata": {
  "kernelspec": {
   "display_name": "Python 2",
   "language": "python",
   "name": "python2"
  },
  "language_info": {
   "codemirror_mode": {
    "name": "ipython",
    "version": 2
   },
   "file_extension": ".py",
   "mimetype": "text/x-python",
   "name": "python",
   "nbconvert_exporter": "python",
   "pygments_lexer": "ipython2",
   "version": "2.7.10"
  }
 },
 "nbformat": 4,
 "nbformat_minor": 2
}
