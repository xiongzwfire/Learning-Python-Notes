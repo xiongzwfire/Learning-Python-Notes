{
 "cells": [
  {
   "cell_type": "markdown",
   "metadata": {},
   "source": [
    "# 第17章 作用域"
   ]
  },
  {
   "cell_type": "markdown",
   "metadata": {},
   "source": [
    "## python作用域基础"
   ]
  },
  {
   "cell_type": "markdown",
   "metadata": {},
   "source": [
    "- 一个def内定义的变量名能够被def内的代码使用，不能在函数的外部引用这样的变量名；def之中的变量与def之外的变量名并不冲突"
   ]
  },
  {
   "cell_type": "markdown",
   "metadata": {},
   "source": [
    "- 一个变量的作用域总是由在代码中被赋值的地方所决定：如果一个变量在def内赋值，它被定位在这个函数之内；如果一个变量在一个嵌套的def中赋值，对于嵌套的函数来说，它是非本地的；如果在def之外赋值，它就是整个文件全局的"
   ]
  },
  {
   "cell_type": "markdown",
   "metadata": {},
   "source": [
    "## 作用域法则"
   ]
  },
  {
   "cell_type": "markdown",
   "metadata": {},
   "source": [
    "- 函数定义了本地作用域，而模块定义的是全局作用域"
   ]
  },
  {
   "cell_type": "markdown",
   "metadata": {},
   "source": [
    "- 全局作用域的作用范围仅限于单个文件，在Python中是没有基于一个单个的、无所不包的情景文件的全局作用域的，替代这种方法的是，变量名由模块文件隔开，并且必须精确地导入一个模块文件才能够使用这个文件中定义的变量名"
   ]
  },
  {
   "cell_type": "markdown",
   "metadata": {},
   "source": [
    "- 每次对函数的调用都创建了一个新的本地作用域"
   ]
  },
  {
   "cell_type": "markdown",
   "metadata": {},
   "source": [
    "- 在默认情况下，所有函数定义内部的变量名是位于本地作用域（与函数调用相关的）内的，如果需要给一个在函数内部却位于模块文件顶层的变量名赋值，需要在函数内部通过global语句声明，如果需要给位于一个嵌套的def中的名称赋值，从Python3.0开始可以通过在一条nonlocal语句中声明它来做到"
   ]
  },
  {
   "cell_type": "markdown",
   "metadata": {},
   "source": [
    "- 一个函数内部的任何类型的赋值都会把一个名称划定为本地的，这包括=语句、import中的模块名称、def中的函数名称、函数参数名称等，如果在一个def语句中以任何方式赋值一个名称，它都将对于该函数成为本地的；原处修改对象并不会把变量划分为本地变量，实际上只有对变量名赋值才可以"
   ]
  },
  {
   "cell_type": "code",
   "execution_count": 1,
   "metadata": {},
   "outputs": [
    {
     "name": "stdout",
     "output_type": "stream",
     "text": [
      "[1, 2]\n"
     ]
    }
   ],
   "source": [
    "L = [1, 2]\n",
    "def f1():\n",
    "    L = [1, 2, 3]\n",
    "f1()\n",
    "print L"
   ]
  },
  {
   "cell_type": "code",
   "execution_count": 2,
   "metadata": {},
   "outputs": [
    {
     "name": "stdout",
     "output_type": "stream",
     "text": [
      "[1, 2, 3]\n"
     ]
    }
   ],
   "source": [
    "L = [1, 2]\n",
    "def f1():\n",
    "    L.append(3)\n",
    "f1()\n",
    "print L"
   ]
  },
  {
   "cell_type": "markdown",
   "metadata": {},
   "source": [
    "## 变量名解析：LEGB原则"
   ]
  },
  {
   "cell_type": "markdown",
   "metadata": {},
   "source": [
    "- 当在函数中使用未认证的变量名时，Python搜索4个作用域【本地作用域（L），之后是上一层结构中的def或lambda的本地作用域（E），之后是全局作用域（G），最后是内置作用域（B）】并且在第一处能够找到这个变量名的地方停下来，如果变量名在这次搜索中没有找到，Python会报错，因为变量名在使用前首先必须赋值过"
   ]
  },
  {
   "cell_type": "markdown",
   "metadata": {},
   "source": [
    "## 作用域实例"
   ]
  },
  {
   "cell_type": "code",
   "execution_count": 3,
   "metadata": {},
   "outputs": [
    {
     "data": {
      "text/plain": [
       "100"
      ]
     },
     "execution_count": 3,
     "metadata": {},
     "output_type": "execute_result"
    }
   ],
   "source": [
    "# Global scope\n",
    "X = 99\n",
    "\n",
    "def func(Y):\n",
    "    # Local scope\n",
    "    Z = X + Y\n",
    "    return Z\n",
    "func(1)"
   ]
  },
  {
   "cell_type": "markdown",
   "metadata": {},
   "source": [
    "- 在上一个例子中，X和func是全局变量名，Y和Z是本地变量名"
   ]
  },
  {
   "cell_type": "markdown",
   "metadata": {},
   "source": [
    "## 内置作用域"
   ]
  },
  {
   "cell_type": "markdown",
   "metadata": {},
   "source": [
    "- 内置作用域是一个名为\\_\\_builtin__的内置模块，但是必须要import \\_\\_builtin\\_\\_之后才能使用内置作用域，因为变量名\\_\\_builtin\\_\\_本身并没有预先内置"
   ]
  },
  {
   "cell_type": "code",
   "execution_count": 4,
   "metadata": {
    "scrolled": true
   },
   "outputs": [
    {
     "data": {
      "text/plain": [
       "['ArithmeticError',\n",
       " 'AssertionError',\n",
       " 'AttributeError',\n",
       " 'BaseException',\n",
       " 'BufferError',\n",
       " 'BytesWarning',\n",
       " 'DeprecationWarning',\n",
       " 'EOFError',\n",
       " 'Ellipsis',\n",
       " 'EnvironmentError',\n",
       " 'Exception',\n",
       " 'False',\n",
       " 'FloatingPointError',\n",
       " 'FutureWarning',\n",
       " 'GeneratorExit',\n",
       " 'IOError',\n",
       " 'ImportError',\n",
       " 'ImportWarning',\n",
       " 'IndentationError',\n",
       " 'IndexError',\n",
       " 'KeyError',\n",
       " 'KeyboardInterrupt',\n",
       " 'LookupError',\n",
       " 'MemoryError',\n",
       " 'NameError',\n",
       " 'None',\n",
       " 'NotImplemented',\n",
       " 'NotImplementedError',\n",
       " 'OSError',\n",
       " 'OverflowError',\n",
       " 'PendingDeprecationWarning',\n",
       " 'ReferenceError',\n",
       " 'RuntimeError',\n",
       " 'RuntimeWarning',\n",
       " 'StandardError',\n",
       " 'StopIteration',\n",
       " 'SyntaxError',\n",
       " 'SyntaxWarning',\n",
       " 'SystemError',\n",
       " 'SystemExit',\n",
       " 'TabError',\n",
       " 'True',\n",
       " 'TypeError',\n",
       " 'UnboundLocalError',\n",
       " 'UnicodeDecodeError',\n",
       " 'UnicodeEncodeError',\n",
       " 'UnicodeError',\n",
       " 'UnicodeTranslateError',\n",
       " 'UnicodeWarning',\n",
       " 'UserWarning',\n",
       " 'ValueError',\n",
       " 'Warning',\n",
       " 'ZeroDivisionError',\n",
       " '__IPYTHON__',\n",
       " '__debug__',\n",
       " '__doc__',\n",
       " '__import__',\n",
       " '__name__',\n",
       " '__package__',\n",
       " 'abs',\n",
       " 'all',\n",
       " 'any',\n",
       " 'apply',\n",
       " 'basestring',\n",
       " 'bin',\n",
       " 'bool',\n",
       " 'buffer',\n",
       " 'bytearray',\n",
       " 'bytes',\n",
       " 'callable',\n",
       " 'chr',\n",
       " 'classmethod',\n",
       " 'cmp',\n",
       " 'coerce',\n",
       " 'compile',\n",
       " 'complex',\n",
       " 'copyright',\n",
       " 'credits',\n",
       " 'delattr',\n",
       " 'dict',\n",
       " 'dir',\n",
       " 'display',\n",
       " 'divmod',\n",
       " 'dreload',\n",
       " 'enumerate',\n",
       " 'eval',\n",
       " 'execfile',\n",
       " 'file',\n",
       " 'filter',\n",
       " 'float',\n",
       " 'format',\n",
       " 'frozenset',\n",
       " 'get_ipython',\n",
       " 'getattr',\n",
       " 'globals',\n",
       " 'hasattr',\n",
       " 'hash',\n",
       " 'help',\n",
       " 'hex',\n",
       " 'id',\n",
       " 'input',\n",
       " 'int',\n",
       " 'intern',\n",
       " 'isinstance',\n",
       " 'issubclass',\n",
       " 'iter',\n",
       " 'len',\n",
       " 'license',\n",
       " 'list',\n",
       " 'locals',\n",
       " 'long',\n",
       " 'map',\n",
       " 'max',\n",
       " 'memoryview',\n",
       " 'min',\n",
       " 'next',\n",
       " 'object',\n",
       " 'oct',\n",
       " 'open',\n",
       " 'ord',\n",
       " 'pow',\n",
       " 'print',\n",
       " 'property',\n",
       " 'range',\n",
       " 'raw_input',\n",
       " 'reduce',\n",
       " 'reload',\n",
       " 'repr',\n",
       " 'reversed',\n",
       " 'round',\n",
       " 'set',\n",
       " 'setattr',\n",
       " 'slice',\n",
       " 'sorted',\n",
       " 'staticmethod',\n",
       " 'str',\n",
       " 'sum',\n",
       " 'super',\n",
       " 'tuple',\n",
       " 'type',\n",
       " 'unichr',\n",
       " 'unicode',\n",
       " 'vars',\n",
       " 'xrange',\n",
       " 'zip']"
      ]
     },
     "execution_count": 4,
     "metadata": {},
     "output_type": "execute_result"
    }
   ],
   "source": [
    "# 前一半是内置的异常，后一半是内置函数\n",
    "import __builtin__\n",
    "dir(__builtin__)"
   ]
  },
  {
   "cell_type": "markdown",
   "metadata": {},
   "source": [
    "- 由于LEGB法则，Python最后将自动搜索这个模块，将会自动得到这个列表中所有变量名，也就是说，你能够使用这些变量名而不需要导入任何模块，因此，有两种方法引用一个内置函数：通过LEGB法则带来好处，或者手动导入\\_\\_builtin__模块"
   ]
  },
  {
   "cell_type": "code",
   "execution_count": 5,
   "metadata": {},
   "outputs": [
    {
     "data": {
      "text/plain": [
       "<function zip>"
      ]
     },
     "execution_count": 5,
     "metadata": {},
     "output_type": "execute_result"
    }
   ],
   "source": [
    "zip"
   ]
  },
  {
   "cell_type": "code",
   "execution_count": 6,
   "metadata": {},
   "outputs": [
    {
     "data": {
      "text/plain": [
       "<function zip>"
      ]
     },
     "execution_count": 6,
     "metadata": {},
     "output_type": "execute_result"
    }
   ],
   "source": [
    "import __builtin__\n",
    "__builtin__.zip"
   ]
  },
  {
   "cell_type": "markdown",
   "metadata": {},
   "source": [
    "- 由于LEGB的查找流程，会使它找到第一处变量名的地方生效，这样，在本地作用域的变量名可能会覆盖在全局作用域和内置作用域有着相同变量名的变量，而全局变量名有可能覆盖内置的变量名"
   ]
  },
  {
   "cell_type": "code",
   "execution_count": 7,
   "metadata": {},
   "outputs": [],
   "source": [
    "# 内置的open函数就不会生效，但是Python对于这个问题并不会处理为警告信息\n",
    "def hider():\n",
    "    open = 'spam'\n",
    "    open('data.txt')"
   ]
  },
  {
   "cell_type": "markdown",
   "metadata": {},
   "source": [
    "- 由于名称True和False在Python2.6中是内置作用域中的变量而不是保留字，用诸如True=False的一条语句来重新为它们赋值就成为可能，不过，这条语句只是在它所出现的单个作用域中重新定义了单词True，所有其他的作用域仍然在内置作用域中查找其最初的定义"
   ]
  },
  {
   "cell_type": "markdown",
   "metadata": {},
   "source": [
    "## global语句"
   ]
  },
  {
   "cell_type": "markdown",
   "metadata": {},
   "source": [
    "- global语句是Python中唯一看起来有些像声明语句的语句，但是，它并不是一个类型或大小的声明，它是一个命名空间的声明，它告诉Python函数打算生成一个或多个全局变量名"
   ]
  },
  {
   "cell_type": "markdown",
   "metadata": {},
   "source": [
    "- 我们对全局变量名做一个总结：全局变量是位于模块文件内部的顶层的变量名；全局变量如果是在函数内被赋值的话，必须经过声明；全局变量名在函数的内部不经过声明也可以被引用"
   ]
  },
  {
   "cell_type": "markdown",
   "metadata": {},
   "source": [
    "- global允许我们修改一个模块文件的顶层的一个def之外的名称，nonlocal语句几乎和这一样，但它应用于嵌套的def的本地作用域内的名称，而不是嵌套的模块中的名称"
   ]
  },
  {
   "cell_type": "markdown",
   "metadata": {},
   "source": [
    "- global语句包含了关键字global，其后跟着一个或多个由逗号分开的变量名，当在函数主体被赋值或引用时，所有列出来的变量名将被映射到整个模块的作用域内"
   ]
  },
  {
   "cell_type": "code",
   "execution_count": 8,
   "metadata": {},
   "outputs": [
    {
     "name": "stdout",
     "output_type": "stream",
     "text": [
      "99\n"
     ]
    }
   ],
   "source": [
    "X = 88\n",
    "def func():\n",
    "    global X\n",
    "    X = 99\n",
    "func()\n",
    "print X"
   ]
  },
  {
   "cell_type": "code",
   "execution_count": 9,
   "metadata": {},
   "outputs": [],
   "source": [
    "y, z = 1, 2\n",
    "def all_global():\n",
    "    global x\n",
    "    x = y + z"
   ]
  },
  {
   "cell_type": "markdown",
   "metadata": {},
   "source": [
    "## 最小化全局变量"
   ]
  },
  {
   "cell_type": "markdown",
   "metadata": {},
   "source": [
    "- 在Python中使用多线程进行并行计算程序实际上是要依靠全局变量的，因为全局变量在并行线程中在不同的函数之间成为了共享内存，所以扮演了通信工具的角色"
   ]
  },
  {
   "cell_type": "markdown",
   "metadata": {},
   "source": [
    "- 到目前为止，在不熟悉编程的情况下，最好尽可能地避免使用全局变量"
   ]
  },
  {
   "cell_type": "markdown",
   "metadata": {},
   "source": [
    "## 其它访问全局变量的方法"
   ]
  },
  {
   "cell_type": "markdown",
   "metadata": {},
   "source": [
    "- 以下两个函数的作用是等同的"
   ]
  },
  {
   "cell_type": "code",
   "execution_count": 10,
   "metadata": {},
   "outputs": [],
   "source": [
    "# thismod.py\n",
    "var = 99\n",
    "def glob1():\n",
    "    global var\n",
    "    var += 1\n",
    "def glob2():\n",
    "    var = 0\n",
    "    import thismod # import myself\n",
    "    thismod.var += 1"
   ]
  },
  {
   "cell_type": "markdown",
   "metadata": {},
   "source": [
    "## 作用域和嵌套函数"
   ]
  },
  {
   "cell_type": "markdown",
   "metadata": {},
   "source": [
    "- 到现在为止，忽略了Python的作用域法则中的一部分（它在实际情景中很少见到），现在到了深入学习一下LEGB查找法则中E这个字母的时候了，E这一层是新内容（Python2.2增加的），它包括了任意嵌套函数内部的本地作用域"
   ]
  },
  {
   "cell_type": "markdown",
   "metadata": {},
   "source": [
    "- 在默认情况下，一个赋值（X=value）创建或改变了变量名X的当前作用域；如果X在函数内部声明为全局变量，它将会创建或改变变量名X为整个模块的作用域；如果X在函数内声明为nonlocal，赋值会修改最近的嵌套函数的本地作用域中的名称X"
   ]
  },
  {
   "cell_type": "code",
   "execution_count": 11,
   "metadata": {},
   "outputs": [
    {
     "name": "stdout",
     "output_type": "stream",
     "text": [
      "88\n"
     ]
    }
   ],
   "source": [
    "X = 99\n",
    "def f1():\n",
    "    X = 88\n",
    "    def f2():\n",
    "        print X\n",
    "    f2()\n",
    "f1()"
   ]
  },
  {
   "cell_type": "markdown",
   "metadata": {},
   "source": [
    "- 上面是一段合法的Python代码，def是一个简单的可执行语句，可以出现在任意其它语句能够出现的地方，包括嵌套在另一个def之中；f2是f1的本地作用域内的一个本地变量，是一个临时函数，仅在f1内部执行的过程中存在，只对f1中的代码可见"
   ]
  },
  {
   "cell_type": "markdown",
   "metadata": {},
   "source": [
    "- 这种嵌套作用域查找在嵌套的函数已经返回后也是有效的，下面的例子中，f2的调用动作的运行是在f1运行后发生的，f2记住了在f1中嵌套作用域中的X，尽管f1已经不处于激活状态"
   ]
  },
  {
   "cell_type": "code",
   "execution_count": 12,
   "metadata": {},
   "outputs": [
    {
     "name": "stdout",
     "output_type": "stream",
     "text": [
      "88\n"
     ]
    }
   ],
   "source": [
    "def f1():\n",
    "    X = 88\n",
    "    def f2():\n",
    "        print X\n",
    "    return f2\n",
    "action = f1()\n",
    "action()"
   ]
  },
  {
   "cell_type": "markdown",
   "metadata": {},
   "source": [
    "### 嵌套作用域和lambda"
   ]
  },
  {
   "cell_type": "markdown",
   "metadata": {},
   "source": [
    "- 尽管对于def本身来说，嵌套作用域很少使用，但是当开始编写lambda表达式时，就要注意了；类比def语句，由于lambda是一个表达式，因此能够使用在def所不能使用的地方，例如列表或是字典中"
   ]
  },
  {
   "cell_type": "code",
   "execution_count": 13,
   "metadata": {},
   "outputs": [
    {
     "name": "stdout",
     "output_type": "stream",
     "text": [
      "16\n"
     ]
    }
   ],
   "source": [
    "def func():\n",
    "    x = 4\n",
    "    action = (lambda n: x ** n)\n",
    "    return action\n",
    "x = func()\n",
    "print x(2)"
   ]
  },
  {
   "cell_type": "markdown",
   "metadata": {},
   "source": [
    "- 由于lambda是表达式，所以它们自然而然地（或者更一般地）嵌套在了def中，因此，它们也就成为了后来在查找原则中增补嵌套函数作用域的最大受益者"
   ]
  },
  {
   "cell_type": "markdown",
   "metadata": {},
   "source": [
    "### 作用域与带有循环变量的默认参数相比较"
   ]
  },
  {
   "cell_type": "markdown",
   "metadata": {},
   "source": [
    "- 在已给出的法则中有个值得注意的案例：如果lambda或者def在函数中定义，嵌套在一个循环之中，并且嵌套的函数引用了一个上层作用域的变量，该变量被循环所改变，所有在这个循环中产生的函数将会有相同的值——在最后一次循环中完成时被引用变量的值"
   ]
  },
  {
   "cell_type": "code",
   "execution_count": 14,
   "metadata": {},
   "outputs": [
    {
     "name": "stdout",
     "output_type": "stream",
     "text": [
      "16\n",
      "16\n",
      "16\n"
     ]
    }
   ],
   "source": [
    "# 嵌套作用域中的变量在嵌套的函数被调用时才进行查找，所以它们记住的是同样的值（最后一次迭代中循环变量的值）\n",
    "def makeActions():\n",
    "    acts = []\n",
    "    for i in range(5):\n",
    "        acts.append(lambda x: i ** x)\n",
    "    return acts\n",
    "acts = makeActions()\n",
    "print acts[0](2)\n",
    "print acts[2](2)\n",
    "print acts[4](2)"
   ]
  },
  {
   "cell_type": "code",
   "execution_count": 15,
   "metadata": {},
   "outputs": [
    {
     "name": "stdout",
     "output_type": "stream",
     "text": [
      "0\n",
      "4\n",
      "16\n"
     ]
    }
   ],
   "source": [
    "# 默认参数是在嵌套函数创建时评估的（而不是在其稍后调用时）\n",
    "def makeActions():\n",
    "    acts = []\n",
    "    for i in range(5):\n",
    "        acts.append(lambda x, i=i: i ** x) # 使用默认参数\n",
    "    return acts\n",
    "acts = makeActions()\n",
    "print acts[0](2)\n",
    "print acts[2](2)\n",
    "print acts[4](2)"
   ]
  },
  {
   "cell_type": "markdown",
   "metadata": {},
   "source": [
    "## nonlocal语句"
   ]
  },
  {
   "cell_type": "markdown",
   "metadata": {},
   "source": [
    "- nonlocal允许对嵌套的函数作用域中的名称赋值，并且把这样的名称的作用域查找限制在嵌套的def；这只适用于Python3.0"
   ]
  }
 ],
 "metadata": {
  "kernelspec": {
   "display_name": "Python 2",
   "language": "python",
   "name": "python2"
  },
  "language_info": {
   "codemirror_mode": {
    "name": "ipython",
    "version": 2
   },
   "file_extension": ".py",
   "mimetype": "text/x-python",
   "name": "python",
   "nbconvert_exporter": "python",
   "pygments_lexer": "ipython2",
   "version": "2.7.10"
  }
 },
 "nbformat": 4,
 "nbformat_minor": 2
}
