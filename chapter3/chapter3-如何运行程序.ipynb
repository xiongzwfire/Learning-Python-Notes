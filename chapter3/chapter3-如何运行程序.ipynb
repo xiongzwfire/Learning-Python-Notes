{
 "cells": [
  {
   "cell_type": "markdown",
   "metadata": {},
   "source": [
    "# 第3章 如何运行程序"
   ]
  },
  {
   "cell_type": "markdown",
   "metadata": {},
   "source": [
    "## UNIX可执行脚本（#!）"
   ]
  },
  {
   "cell_type": "markdown",
   "metadata": {},
   "source": [
    "在类UNIX操作系统中，Python代码可以像可执行程序一样去被执行，这需要满足两个条件：\n",
    "- 第一行写上“#! python解释器路径”，或者是“#! /usr/bin/env python”（前提是env的路径正确）\n",
    "- 脚本拥有可执行权限"
   ]
  },
  {
   "cell_type": "markdown",
   "metadata": {},
   "source": [
    "## 模块导入和重载"
   ]
  },
  {
   "cell_type": "markdown",
   "metadata": {},
   "source": [
    "- import\n",
    "    - 导入必须找到文件，将其编译成字节码，并且运行代码\n",
    "    - 导入是一个开销很大的操作，以至于只有第一次导入会生效，其余导入都不工作，甚至修改了模块的源码也不行\n",
    "- reload\n",
    "    - 如果真的想要在同一次会话中再次运行模块文件，可以采用reload函数，它会载入并运行模块文件的最新版本\n",
    "    - reload函数希望获得的参数是一个已经加载了的对象的名称，否则会报错\n",
    "    - reload是一个函数，它的返回值是一个Python模块对象，import是一个语句\n",
    "- 从一般意义来说，模块往往就是变量名的封装，被认作是命名空间，在一个包中的变量名就是所谓的属性\n",
    "- 无论使用的是import还是from去执行导入操作，模块文件的语句都会执行\n",
    "- 从技术上来讲，from复制了模块的属性，这可能导致在导入的文件中相同名称的变量被覆盖"
   ]
  },
  {
   "cell_type": "markdown",
   "metadata": {},
   "source": [
    "## 使用exec运行模块文件"
   ]
  },
  {
   "cell_type": "markdown",
   "metadata": {},
   "source": [
    "- `execfile(\"test.py\")`和`exec(open(\"test.py\").read())`都可运行模块文件`test.py`"
   ]
  }
 ],
 "metadata": {
  "kernelspec": {
   "display_name": "Python 2",
   "language": "python",
   "name": "python2"
  },
  "language_info": {
   "codemirror_mode": {
    "name": "ipython",
    "version": 2
   },
   "file_extension": ".py",
   "mimetype": "text/x-python",
   "name": "python",
   "nbconvert_exporter": "python",
   "pygments_lexer": "ipython2",
   "version": "2.7.10"
  }
 },
 "nbformat": 4,
 "nbformat_minor": 2
}
