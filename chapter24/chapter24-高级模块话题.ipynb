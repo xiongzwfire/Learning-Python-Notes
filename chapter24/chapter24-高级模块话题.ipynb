{
 "cells": [
  {
   "cell_type": "markdown",
   "metadata": {},
   "source": [
    "# 第24章 高级模块话题"
   ]
  },
  {
   "cell_type": "markdown",
   "metadata": {},
   "source": [
    "## 在模块中隐藏数据"
   ]
  },
  {
   "cell_type": "markdown",
   "metadata": {},
   "source": [
    "- 把下划线放在变量名前面（例如：_X），可以防止客户端使用from * 语句导入模块时，把其中的那些变量名复制出去\n",
    "- 可以在模块顶层把变量名的字符串列表赋值给变量`__all__`，如`__all__ = [\"Error\", \"encode\", \"decode\"]`，使用此功能时，from * 语句只会把列在`__all__`列表中的这些变量名复制出来\n",
    "- 以上功能仅对from * 语句起作用，对其它语句如import不起作用"
   ]
  },
  {
   "cell_type": "markdown",
   "metadata": {},
   "source": [
    "## 启用以后的语言特性"
   ]
  },
  {
   "cell_type": "markdown",
   "metadata": {},
   "source": [
    "- `from __future__ import featurename`，这个语句一般出现在模块文件的顶端（可在docstring之后）"
   ]
  },
  {
   "cell_type": "markdown",
   "metadata": {},
   "source": [
    "## 混合用法模式：\\_\\_name\\_\\_和\\_\\_main\\_\\_"
   ]
  },
  {
   "cell_type": "markdown",
   "metadata": {},
   "source": [
    "- 每个模块都有个名为`__name__`的内置属性，如果文件是以顶层程序文件执行，在启动时，`__name__`就会设置为字符串`\"__main__\"`，如果文件被导入，`__name__`就会改成客户端所了解的模块名\n",
    "- 实际上，一个模块的`__name__`变量充当一个使用模式标志，允许它编写成一个可导入的库和一个顶层脚本"
   ]
  },
  {
   "cell_type": "markdown",
   "metadata": {},
   "source": [
    "## 修改模块搜索路径"
   ]
  },
  {
   "cell_type": "markdown",
   "metadata": {},
   "source": [
    "- 在Python中，可以通过修改sys.path来动态配置搜索路径，sys.path在程序启动时就会进行初始化，但在那之后，可以随意对其元素进行删除、附加和重设"
   ]
  },
  {
   "cell_type": "markdown",
   "metadata": {},
   "source": [
    "## import语句和from语句的as扩展"
   ]
  },
  {
   "cell_type": "markdown",
   "metadata": {},
   "source": [
    "```\n",
    "import modulename as name\n",
    "from modulename import attrname as name\n",
    "import dir1.dir2.mod as mod\n",
    "```"
   ]
  },
  {
   "cell_type": "markdown",
   "metadata": {},
   "source": [
    "## 用名称字符串导入模块"
   ]
  },
  {
   "cell_type": "code",
   "execution_count": 1,
   "metadata": {},
   "outputs": [
    {
     "data": {
      "text/plain": [
       "<module 'string' from '/System/Library/Frameworks/Python.framework/Versions/2.7/lib/python2.7/string.pyc'>"
      ]
     },
     "execution_count": 1,
     "metadata": {},
     "output_type": "execute_result"
    }
   ],
   "source": [
    "modname = \"string\"\n",
    "string = __import__(modname)\n",
    "string"
   ]
  },
  {
   "cell_type": "markdown",
   "metadata": {},
   "source": [
    "## 模块陷阱"
   ]
  },
  {
   "cell_type": "markdown",
   "metadata": {},
   "source": [
    "### 顶层代码的语句次序的重要性"
   ]
  },
  {
   "cell_type": "markdown",
   "metadata": {},
   "source": [
    "- 当模块首次导入（或重载）时，Python会从头到尾执行语句，这里有些和前向引用相关的含义：1.在导入时，模块文件顶层的程序代码（不在函数内）一旦运行到时，就会立刻执行，因此，该语句是无法引用文件后面位置赋值的变量名；2.位于函数主体内的代码直到函数被调用后才会运行，因为函数内的变量名在函数实际执行前都不会解析，通常可以引用文件内任意地方的变量"
   ]
  },
  {
   "cell_type": "markdown",
   "metadata": {},
   "source": [
    "### from复制变量名，而不是连接"
   ]
  },
  {
   "cell_type": "markdown",
   "metadata": {},
   "source": [
    "```python\n",
    "# nested1.py\n",
    "X = 99\n",
    "def printer():\n",
    "    print X\n",
    "    \n",
    "# nested2.py\n",
    "from nested1 import X, printer\n",
    "X = 88\n",
    "printer()\n",
    "\n",
    "% python nested2.py\n",
    "99\n",
    "\n",
    "# nested3.py\n",
    "import nested1\n",
    "nested1.X = 88\n",
    "nested1.printer()\n",
    "\n",
    "% python nested3.py\n",
    "88\n",
    "```"
   ]
  },
  {
   "cell_type": "markdown",
   "metadata": {},
   "source": [
    "### 递归形式的from导入无法工作"
   ]
  },
  {
   "cell_type": "markdown",
   "metadata": {},
   "source": [
    "- 在递归导入（两个模块相互导入）中，最好不要使用from语句"
   ]
  }
 ],
 "metadata": {
  "kernelspec": {
   "display_name": "Python 2",
   "language": "python",
   "name": "python2"
  },
  "language_info": {
   "codemirror_mode": {
    "name": "ipython",
    "version": 2
   },
   "file_extension": ".py",
   "mimetype": "text/x-python",
   "name": "python",
   "nbconvert_exporter": "python",
   "pygments_lexer": "ipython2",
   "version": "2.7.10"
  }
 },
 "nbformat": 4,
 "nbformat_minor": 2
}
