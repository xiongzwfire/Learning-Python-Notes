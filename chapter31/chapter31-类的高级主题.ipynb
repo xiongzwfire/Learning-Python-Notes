{
 "cells": [
  {
   "cell_type": "markdown",
   "metadata": {},
   "source": [
    "# 第31章 类的高级主题"
   ]
  },
  {
   "cell_type": "markdown",
   "metadata": {},
   "source": [
    "## 扩展内置类型"
   ]
  },
  {
   "cell_type": "markdown",
   "metadata": {},
   "source": [
    "- 除了实现新的种类的对象以外，类偶尔也用于扩展Python的内置类型的功能，从而支持更另类的数据结构"
   ]
  },
  {
   "cell_type": "markdown",
   "metadata": {},
   "source": [
    "### 通过嵌入扩展类型"
   ]
  },
  {
   "cell_type": "markdown",
   "metadata": {},
   "source": [
    "- 写一个类，包装内置类型对象，并提供一些扩展方法以供调用"
   ]
  },
  {
   "cell_type": "markdown",
   "metadata": {},
   "source": [
    "### 通过子类扩展类型"
   ]
  },
  {
   "cell_type": "markdown",
   "metadata": {},
   "source": [
    "- 从Python2.2起，所有内置类型都能直接创建子类，像list、str、dict以及tuple这些类型转换函数都变成内置类型的名称：虽然脚本看不见，但类型转换调用，例如，list('spam')其实是启用了类型的对象构造函数\n",
    "- 这样的改变让你可以通过用户定义的class语句，定制或扩展内置类型的行为：建立类型名称的子类并对其进行定制。类型的子类实例，可用在原始的内置类型能够出现的任何地方\n",
    "- 一般来说，用这种方式定制内置类型，是很强大的"
   ]
  },
  {
   "cell_type": "code",
   "execution_count": 1,
   "metadata": {},
   "outputs": [
    {
     "name": "stdout",
     "output_type": "stream",
     "text": [
      "['a', 'b', 'c']\n",
      "indexing ['a', 'b', 'c'] at 1\n",
      "a\n",
      "indexing ['a', 'b', 'c'] at 3\n",
      "c\n",
      "['a', 'b', 'c', 'spam']\n",
      "['spam', 'c', 'b', 'a']\n"
     ]
    }
   ],
   "source": [
    "class MyList(list):\n",
    "    def __getitem__(self, offset):\n",
    "        print \"indexing %s at %s\" % (self, offset)\n",
    "        return list.__getitem__(self, offset - 1)\n",
    "print list('abc')\n",
    "x = MyList('abc')\n",
    "print x[1]\n",
    "print x[3]\n",
    "x.append('spam')\n",
    "print x\n",
    "x.reverse()\n",
    "print x"
   ]
  },
  {
   "cell_type": "markdown",
   "metadata": {},
   "source": [
    "## 新式类"
   ]
  },
  {
   "cell_type": "markdown",
   "metadata": {},
   "source": [
    "- 对于Python3.0来说，所有的类都是所谓的“新式类”，它们都继承自object，无论是显式还是隐式，并且，所有的对象都是object的实例\n",
    "- 在Python2.6及其以前的版本中，类必须显式继承自object，才能看做新式类，并获得新式类的特性\n",
    "- 通常情况下，任何从object或其它内置类型派生的类，都会自动视为新式类，只要一个内置类型位于超类树中的某个位置，新类也当做一个新式类；不是从内置类型派生出来的类，就会当做经典类来对待"
   ]
  },
  {
   "cell_type": "markdown",
   "metadata": {},
   "source": [
    "### 新式类变化"
   ]
  },
  {
   "cell_type": "markdown",
   "metadata": {},
   "source": [
    "- 这里我们只介绍一点，就是在新式类中，类和类型合并了：type(I)返回一个实例所创建自的类，而不是一个通用的instance，并且，通常和`I.__class__`是一致的"
   ]
  },
  {
   "cell_type": "code",
   "execution_count": 2,
   "metadata": {},
   "outputs": [
    {
     "data": {
      "text/plain": [
       "__main__.MyList"
      ]
     },
     "execution_count": 2,
     "metadata": {},
     "output_type": "execute_result"
    }
   ],
   "source": [
    "type(x)"
   ]
  },
  {
   "cell_type": "code",
   "execution_count": 3,
   "metadata": {},
   "outputs": [
    {
     "data": {
      "text/plain": [
       "__main__.MyList"
      ]
     },
     "execution_count": 3,
     "metadata": {},
     "output_type": "execute_result"
    }
   ],
   "source": [
    "x.__class__"
   ]
  },
  {
   "cell_type": "code",
   "execution_count": 4,
   "metadata": {},
   "outputs": [
    {
     "data": {
      "text/plain": [
       "type"
      ]
     },
     "execution_count": 4,
     "metadata": {},
     "output_type": "execute_result"
    }
   ],
   "source": [
    "type(MyList)"
   ]
  },
  {
   "cell_type": "code",
   "execution_count": 5,
   "metadata": {},
   "outputs": [
    {
     "data": {
      "text/plain": [
       "type"
      ]
     },
     "execution_count": 5,
     "metadata": {},
     "output_type": "execute_result"
    }
   ],
   "source": [
    "MyList.__class__"
   ]
  },
  {
   "cell_type": "code",
   "execution_count": 6,
   "metadata": {},
   "outputs": [
    {
     "data": {
      "text/plain": [
       "instance"
      ]
     },
     "execution_count": 6,
     "metadata": {},
     "output_type": "execute_result"
    }
   ],
   "source": [
    "class Test:\n",
    "    pass\n",
    "y = Test()\n",
    "type(y)"
   ]
  },
  {
   "cell_type": "code",
   "execution_count": 7,
   "metadata": {},
   "outputs": [
    {
     "data": {
      "text/plain": [
       "classobj"
      ]
     },
     "execution_count": 7,
     "metadata": {},
     "output_type": "execute_result"
    }
   ],
   "source": [
    "type(Test)"
   ]
  },
  {
   "cell_type": "code",
   "execution_count": 8,
   "metadata": {},
   "outputs": [],
   "source": [
    "# 以下语句报错\n",
    "#Test.__class__"
   ]
  },
  {
   "cell_type": "markdown",
   "metadata": {},
   "source": [
    "- 在Python3.0中，类型自身派生自object，并且object派生自type"
   ]
  },
  {
   "cell_type": "markdown",
   "metadata": {},
   "source": [
    "### 钻石继承变动"
   ]
  },
  {
   "cell_type": "markdown",
   "metadata": {},
   "source": [
    "- 对经典类而言，继承搜索顺序是绝对深度优先，然后才是由左至右；在新式类中，搜索相对来说是宽度优先的"
   ]
  },
  {
   "cell_type": "code",
   "execution_count": 9,
   "metadata": {},
   "outputs": [
    {
     "data": {
      "text/plain": [
       "1"
      ]
     },
     "execution_count": 9,
     "metadata": {},
     "output_type": "execute_result"
    }
   ],
   "source": [
    "# 搜索顺序：DBAC\n",
    "class A:\n",
    "    attr = 1\n",
    "class B(A):\n",
    "    pass\n",
    "class C(A):\n",
    "    attr = 2\n",
    "class D(B, C):\n",
    "    pass\n",
    "x = D()\n",
    "x.attr"
   ]
  },
  {
   "cell_type": "code",
   "execution_count": 10,
   "metadata": {},
   "outputs": [
    {
     "data": {
      "text/plain": [
       "2"
      ]
     },
     "execution_count": 10,
     "metadata": {},
     "output_type": "execute_result"
    }
   ],
   "source": [
    "# 搜索顺序：DBCA\n",
    "class A(object):\n",
    "    attr = 1\n",
    "class B(A):\n",
    "    pass\n",
    "class C(A):\n",
    "    attr = 2\n",
    "class D(B, C):\n",
    "    pass\n",
    "x = D()\n",
    "x.attr"
   ]
  },
  {
   "cell_type": "markdown",
   "metadata": {},
   "source": [
    "## 新式类的扩展"
   ]
  },
  {
   "cell_type": "markdown",
   "metadata": {},
   "source": [
    "### slots实例"
   ]
  },
  {
   "cell_type": "markdown",
   "metadata": {},
   "source": [
    "- 将字符串属性名称顺序赋值给特殊的`__slots__`类属性，新式类就有可能既限制类的实例将有的合法属性集，又能够优化内存和速度性能\n",
    "- 这个特殊属性一般是在class语句顶层内将字符串名称顺序赋值给变量`__slots__`而设置：只有`__slots__`列表内的这些变量名可赋值为实例属性，不过，实例属性名必须在引用前赋值"
   ]
  },
  {
   "cell_type": "code",
   "execution_count": 11,
   "metadata": {},
   "outputs": [
    {
     "ename": "AttributeError",
     "evalue": "age",
     "output_type": "error",
     "traceback": [
      "\u001b[0;31m---------------------------------------------------------------------------\u001b[0m",
      "\u001b[0;31mAttributeError\u001b[0m                            Traceback (most recent call last)",
      "\u001b[0;32m<ipython-input-11-5646db63afd7>\u001b[0m in \u001b[0;36m<module>\u001b[0;34m()\u001b[0m\n\u001b[1;32m      2\u001b[0m     \u001b[0m__slots__\u001b[0m \u001b[0;34m=\u001b[0m \u001b[0;34m[\u001b[0m\u001b[0;34m'age'\u001b[0m\u001b[0;34m,\u001b[0m \u001b[0;34m'name'\u001b[0m\u001b[0;34m,\u001b[0m \u001b[0;34m'job'\u001b[0m\u001b[0;34m]\u001b[0m\u001b[0;34m\u001b[0m\u001b[0m\n\u001b[1;32m      3\u001b[0m \u001b[0mx\u001b[0m \u001b[0;34m=\u001b[0m \u001b[0mlimiter\u001b[0m\u001b[0;34m(\u001b[0m\u001b[0;34m)\u001b[0m\u001b[0;34m\u001b[0m\u001b[0m\n\u001b[0;32m----> 4\u001b[0;31m \u001b[0mx\u001b[0m\u001b[0;34m.\u001b[0m\u001b[0mage\u001b[0m \u001b[0;31m# 必须先赋值\u001b[0m\u001b[0;34m\u001b[0m\u001b[0m\n\u001b[0m",
      "\u001b[0;31mAttributeError\u001b[0m: age"
     ]
    }
   ],
   "source": [
    "class limiter(object):\n",
    "    __slots__ = ['age', 'name', 'job']\n",
    "x = limiter()\n",
    "x.age # 必须先赋值"
   ]
  },
  {
   "cell_type": "code",
   "execution_count": 12,
   "metadata": {},
   "outputs": [
    {
     "data": {
      "text/plain": [
       "40"
      ]
     },
     "execution_count": 12,
     "metadata": {},
     "output_type": "execute_result"
    }
   ],
   "source": [
    "x.age = 40\n",
    "x.age"
   ]
  },
  {
   "cell_type": "code",
   "execution_count": 13,
   "metadata": {},
   "outputs": [
    {
     "ename": "AttributeError",
     "evalue": "'limiter' object has no attribute 'ape'",
     "output_type": "error",
     "traceback": [
      "\u001b[0;31m---------------------------------------------------------------------------\u001b[0m",
      "\u001b[0;31mAttributeError\u001b[0m                            Traceback (most recent call last)",
      "\u001b[0;32m<ipython-input-13-7a10ee360998>\u001b[0m in \u001b[0;36m<module>\u001b[0;34m()\u001b[0m\n\u001b[0;32m----> 1\u001b[0;31m \u001b[0mx\u001b[0m\u001b[0;34m.\u001b[0m\u001b[0mape\u001b[0m \u001b[0;31m# 该属性不存在于__slots__中\u001b[0m\u001b[0;34m\u001b[0m\u001b[0m\n\u001b[0m",
      "\u001b[0;31mAttributeError\u001b[0m: 'limiter' object has no attribute 'ape'"
     ]
    }
   ],
   "source": [
    "x.ape # 该属性不存在于__slots__中"
   ]
  },
  {
   "cell_type": "code",
   "execution_count": 14,
   "metadata": {},
   "outputs": [
    {
     "ename": "AttributeError",
     "evalue": "'limiter' object has no attribute '__dict__'",
     "output_type": "error",
     "traceback": [
      "\u001b[0;31m---------------------------------------------------------------------------\u001b[0m",
      "\u001b[0;31mAttributeError\u001b[0m                            Traceback (most recent call last)",
      "\u001b[0;32m<ipython-input-14-101207a4ddc3>\u001b[0m in \u001b[0;36m<module>\u001b[0;34m()\u001b[0m\n\u001b[0;32m----> 1\u001b[0;31m \u001b[0mx\u001b[0m\u001b[0;34m.\u001b[0m\u001b[0m__dict__\u001b[0m\u001b[0;34m\u001b[0m\u001b[0m\n\u001b[0m",
      "\u001b[0;31mAttributeError\u001b[0m: 'limiter' object has no attribute '__dict__'"
     ]
    }
   ],
   "source": [
    "x.__dict__"
   ]
  },
  {
   "cell_type": "markdown",
   "metadata": {},
   "source": [
    "## 静态方法和类方法"
   ]
  },
  {
   "cell_type": "markdown",
   "metadata": {},
   "source": [
    "- 在Python2.X中，有可能在类中定义两种方法，它们不用一个实例就可以调用：静态方法和类方法，前者大致与一个类中的简单的无实例函数类似地工作，后者传递一个类而不是一个实例"
   ]
  },
  {
   "cell_type": "markdown",
   "metadata": {},
   "source": [
    "### 为什么使用特殊方法"
   ]
  },
  {
   "cell_type": "markdown",
   "metadata": {},
   "source": [
    "- 有时候程序需要处理与类而不是与实例相关的数据，为此，我们需要一个类中的方法不仅不传递而且也不期待一个self实例参数，Python通过静态方法的概念来支持这样的目标——嵌套在一个类中的没有self参数的简单函数，并且旨在操作类属性而不是实例属性"
   ]
  },
  {
   "cell_type": "markdown",
   "metadata": {},
   "source": [
    "### 使用静态方法和类方法"
   ]
  },
  {
   "cell_type": "code",
   "execution_count": 15,
   "metadata": {},
   "outputs": [],
   "source": [
    "class Methods:\n",
    "    # 实例方法\n",
    "    def imeth(self, x):\n",
    "        print self, x\n",
    "    # 静态方法\n",
    "    def smeth(x):\n",
    "        print x\n",
    "    # 类方法\n",
    "    def cmeth(cls, x):\n",
    "        print cls, x\n",
    "    smeth = staticmethod(smeth)\n",
    "    cmeth = classmethod(cmeth)"
   ]
  },
  {
   "cell_type": "code",
   "execution_count": 16,
   "metadata": {},
   "outputs": [
    {
     "name": "stdout",
     "output_type": "stream",
     "text": [
      "<__main__.Methods instance at 0x10e9b8830> 1\n",
      "<__main__.Methods instance at 0x10e9b8830> 2\n"
     ]
    }
   ],
   "source": [
    "obj = Methods()\n",
    "obj.imeth(1)\n",
    "Methods.imeth(obj, 2)"
   ]
  },
  {
   "cell_type": "code",
   "execution_count": 17,
   "metadata": {},
   "outputs": [
    {
     "name": "stdout",
     "output_type": "stream",
     "text": [
      "3\n",
      "3\n"
     ]
    }
   ],
   "source": [
    "Methods.smeth(3)\n",
    "obj.smeth(3)"
   ]
  },
  {
   "cell_type": "code",
   "execution_count": 18,
   "metadata": {},
   "outputs": [
    {
     "name": "stdout",
     "output_type": "stream",
     "text": [
      "__main__.Methods 4\n",
      "__main__.Methods 4\n"
     ]
    }
   ],
   "source": [
    "# 把类（而不是实例）传入类方法第一个参数中，无论通过类或者实例去调用\n",
    "Methods.cmeth(4)\n",
    "obj.cmeth(4)"
   ]
  },
  {
   "cell_type": "markdown",
   "metadata": {},
   "source": [
    "### 使用静态方法统计实例"
   ]
  },
  {
   "cell_type": "code",
   "execution_count": 19,
   "metadata": {},
   "outputs": [
    {
     "name": "stdout",
     "output_type": "stream",
     "text": [
      "Number of instances:  3\n",
      "Number of instances:  3\n"
     ]
    }
   ],
   "source": [
    "class Spam:\n",
    "    numInstances = 0\n",
    "    def __init__(self):\n",
    "        Spam.numInstances += 1\n",
    "    def printNumInstances():\n",
    "        print \"Number of instances: \", Spam.numInstances\n",
    "    printNumInstances = staticmethod(printNumInstances)\n",
    "a = Spam()\n",
    "b = Spam()\n",
    "c = Spam()\n",
    "Spam.printNumInstances()\n",
    "a.printNumInstances()"
   ]
  },
  {
   "cell_type": "markdown",
   "metadata": {},
   "source": [
    "- 类可以继承静态方法而不用重新定义它，它可以没有一个实例而运行，不管定义于类树的何处"
   ]
  },
  {
   "cell_type": "code",
   "execution_count": 20,
   "metadata": {},
   "outputs": [
    {
     "name": "stdout",
     "output_type": "stream",
     "text": [
      "Number of instances:  4\n"
     ]
    }
   ],
   "source": [
    "class Other(Spam):\n",
    "    pass\n",
    "c = Other()\n",
    "c.printNumInstances()"
   ]
  },
  {
   "cell_type": "markdown",
   "metadata": {},
   "source": [
    "### 用类方法统计实例"
   ]
  },
  {
   "cell_type": "code",
   "execution_count": 21,
   "metadata": {},
   "outputs": [
    {
     "name": "stdout",
     "output_type": "stream",
     "text": [
      "Number of instances:  3 __main__.Spam\n",
      "Number of instances:  3 __main__.Spam\n"
     ]
    }
   ],
   "source": [
    "class Spam:\n",
    "    numInstances = 0\n",
    "    def __init__(self):\n",
    "        Spam.numInstances += 1\n",
    "    def printNumInstances(cls):\n",
    "        print \"Number of instances: \", cls.numInstances, cls\n",
    "    printNumInstances = classmethod(printNumInstances)\n",
    "a = Spam()\n",
    "b = Spam()\n",
    "c = Spam()\n",
    "Spam.printNumInstances()\n",
    "a.printNumInstances()"
   ]
  },
  {
   "cell_type": "markdown",
   "metadata": {},
   "source": [
    "- 类方法接收调用的主体是最底层的类"
   ]
  },
  {
   "cell_type": "code",
   "execution_count": 22,
   "metadata": {},
   "outputs": [
    {
     "name": "stdout",
     "output_type": "stream",
     "text": [
      "Extra stuff... __main__.Sub\n",
      "Number of instances:  5 __main__.Spam\n",
      "Extra stuff... __main__.Sub\n",
      "Number of instances:  5 __main__.Spam\n",
      "Number of instances:  5 __main__.Spam\n",
      "Number of instances:  6 __main__.Other\n"
     ]
    }
   ],
   "source": [
    "class Sub(Spam):\n",
    "    def printNumInstances(cls):\n",
    "        print \"Extra stuff...\", cls\n",
    "        Spam.printNumInstances()\n",
    "    printNumInstances = classmethod(printNumInstances)\n",
    "class Other(Spam):\n",
    "    pass\n",
    "x = Sub()\n",
    "y = Spam()\n",
    "x.printNumInstances()\n",
    "Sub.printNumInstances()\n",
    "y.printNumInstances()\n",
    "z = Other()\n",
    "z.printNumInstances()"
   ]
  },
  {
   "cell_type": "markdown",
   "metadata": {},
   "source": [
    "- 静态方法和显式类名称可能对于处理一个类本地的数据来说是更好的解决方案\n",
    "- 类方法可能更适合处理对层级中的每个类不同的数据"
   ]
  },
  {
   "cell_type": "code",
   "execution_count": 23,
   "metadata": {},
   "outputs": [
    {
     "data": {
      "text/plain": [
       "(1, 2, 3)"
      ]
     },
     "execution_count": 23,
     "metadata": {},
     "output_type": "execute_result"
    }
   ],
   "source": [
    "class Spam:\n",
    "    numInstances = 0\n",
    "    def count(cls):\n",
    "        cls.numInstances += 1\n",
    "    def __init__(self):\n",
    "        self.count()\n",
    "    count = classmethod(count)\n",
    "\n",
    "class Sub(Spam):\n",
    "    numInstances = 0\n",
    "    def __init__(self):\n",
    "        Spam.__init__(self)\n",
    "        \n",
    "class Other(Spam):\n",
    "    numInstances = 0\n",
    "    \n",
    "x = Spam()\n",
    "y1, y2 = Sub(), Sub()\n",
    "z1, z2, z3 = Other(), Other(), Other()\n",
    "x.numInstances, y1.numInstances, z1.numInstances"
   ]
  },
  {
   "cell_type": "code",
   "execution_count": 24,
   "metadata": {},
   "outputs": [
    {
     "data": {
      "text/plain": [
       "(1, 2, 3)"
      ]
     },
     "execution_count": 24,
     "metadata": {},
     "output_type": "execute_result"
    }
   ],
   "source": [
    "Spam.numInstances, Sub.numInstances, Other.numInstances"
   ]
  },
  {
   "cell_type": "markdown",
   "metadata": {},
   "source": [
    "## 装饰器和元类：第一部分"
   ]
  },
  {
   "cell_type": "markdown",
   "metadata": {},
   "source": [
    "- 函数装饰器（function decorator）提供了一种方式，替函数明确了特定的运算模式，也就是将函数包裹了另一层，在另一函数的逻辑内实现"
   ]
  },
  {
   "cell_type": "markdown",
   "metadata": {},
   "source": [
    "### 函数装饰器基础"
   ]
  },
  {
   "cell_type": "markdown",
   "metadata": {},
   "source": [
    "- 从语法上来讲，函数装饰器是它后边的函数的运行时的声明，函数装饰器是写成一行，就在定义函数或方法的def语句之前，而且由@符号、后面跟着所谓的元函数（metafunction）组成：也就是管理另一函数（或其它可调用对象）的函数\n",
    "- 装饰器函数可返回原始函数，或者新对象（保存传给装饰器的原始函数，这个函数将会在额外逻辑层执行后间接地运行）"
   ]
  },
  {
   "cell_type": "code",
   "execution_count": 25,
   "metadata": {},
   "outputs": [
    {
     "name": "stdout",
     "output_type": "stream",
     "text": [
      "Number of instances created:  3\n",
      "Number of instances created:  3\n"
     ]
    }
   ],
   "source": [
    "class Spam:\n",
    "    numInstances = 0\n",
    "    def __init__(self):\n",
    "        Spam.numInstances = Spam.numInstances + 1\n",
    "    @staticmethod\n",
    "    def printNumInstances():\n",
    "        print \"Number of instances created: \", Spam.numInstances\n",
    "a = Spam()\n",
    "b = Spam()\n",
    "c = Spam()\n",
    "Spam.printNumInstances()\n",
    "a.printNumInstances()"
   ]
  },
  {
   "cell_type": "markdown",
   "metadata": {},
   "source": [
    "- Python提供一些内置函数装饰器，来做一些运算，例如，标识静态方法，但是我们也可以编写自己的任意装饰器，虽然不限于使用类，但用户定义的函数装饰器通常也写成类，把原始函数和其它数据当成状态信息\n",
    "- staticmethod是一个内置函数，它可用于装饰语法中，只是因为它把一个函数当做参数并且返回一个可调用对象，实际上任何这样的函数都可以以这种方式使用，包括用户自定义函数"
   ]
  },
  {
   "cell_type": "markdown",
   "metadata": {},
   "source": [
    "### 装饰器例子"
   ]
  },
  {
   "cell_type": "code",
   "execution_count": 26,
   "metadata": {},
   "outputs": [
    {
     "name": "stdout",
     "output_type": "stream",
     "text": [
      "call 1 to spam\n",
      "1 2 3\n",
      "call 2 to spam\n",
      "a b c\n",
      "call 3 to spam\n",
      "4 5 6\n"
     ]
    }
   ],
   "source": [
    "class tracer:\n",
    "    def __init__(self, func):\n",
    "        self.calls = 0\n",
    "        self.func = func\n",
    "    def __call__(self, *args):\n",
    "        self.calls += 1\n",
    "        print \"call %s to %s\" % (self.calls, self.func.__name__)\n",
    "        self.func(*args)\n",
    "\n",
    "@tracer # 等同于 spam = tracer(spam)\n",
    "def spam(a, b, c):\n",
    "    print a, b, c\n",
    "    \n",
    "spam(1, 2, 3)\n",
    "spam('a', 'b', 'c')\n",
    "spam(4, 5, 6)"
   ]
  },
  {
   "cell_type": "markdown",
   "metadata": {},
   "source": [
    "### 类装饰器和元类"
   ]
  },
  {
   "cell_type": "markdown",
   "metadata": {},
   "source": [
    "- 类装饰器类似于函数装饰器"
   ]
  }
 ],
 "metadata": {
  "kernelspec": {
   "display_name": "Python 2",
   "language": "python",
   "name": "python2"
  },
  "language_info": {
   "codemirror_mode": {
    "name": "ipython",
    "version": 2
   },
   "file_extension": ".py",
   "mimetype": "text/x-python",
   "name": "python",
   "nbconvert_exporter": "python",
   "pygments_lexer": "ipython2",
   "version": "2.7.10"
  }
 },
 "nbformat": 4,
 "nbformat_minor": 2
}
